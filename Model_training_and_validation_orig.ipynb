{
 "cells": [
  {
   "cell_type": "markdown",
   "metadata": {},
   "source": [
    "# Vineyards navigation with semantic segmentation\n",
    "\n",
    "Using semantic segmentation for a proportional controller along the vineyard rows.\n",
    "\n",
    "\n",
    "\n",
    "\n",
    "- This notebook contains scripts to create, train, and test a deep learning network to perform fast semantic segmentation on platform with mobile CPUs and low memory capabilities\n",
    "\n",
    "- The implemented architecture is a MobileNetV3 with a customized LR-ASSP"
   ]
  },
  {
   "cell_type": "markdown",
   "metadata": {},
   "source": [
    "# 0 Initialization"
   ]
  },
  {
   "cell_type": "code",
   "execution_count": 1,
   "metadata": {},
   "outputs": [
    {
     "name": "stderr",
     "output_type": "stream",
     "text": [
      "2022-10-21 23:58:17.777320: I tensorflow/stream_executor/platform/default/dso_loader.cc:49] Successfully opened dynamic library libcudart.so.11.0\n"
     ]
    }
   ],
   "source": [
    "#Required libraries\n",
    "\n",
    "import glob\n",
    "import matplotlib.pyplot as plt\n",
    "import cv2\n",
    "import numpy as np\n",
    "import os\n",
    "from tqdm.notebook import tqdm as tqdm\n",
    "\n",
    "import tensorflow as tf\n",
    "from tensorflow import keras\n",
    "from tensorflow.keras import backend as K"
   ]
  },
  {
   "cell_type": "code",
   "execution_count": 2,
   "metadata": {},
   "outputs": [
    {
     "name": "stderr",
     "output_type": "stream",
     "text": [
      "2022-10-21 23:58:18.699719: I tensorflow/compiler/jit/xla_cpu_device.cc:41] Not creating XLA devices, tf_xla_enable_xla_devices not set\n",
      "2022-10-21 23:58:18.700638: I tensorflow/stream_executor/platform/default/dso_loader.cc:49] Successfully opened dynamic library libcuda.so.1\n",
      "2022-10-21 23:58:19.217262: I tensorflow/core/common_runtime/gpu/gpu_device.cc:1720] Found device 0 with properties: \n",
      "pciBusID: 0000:60:00.0 name: NVIDIA A100-PCIE-40GB computeCapability: 8.0\n",
      "coreClock: 1.41GHz coreCount: 108 deviceMemorySize: 39.41GiB deviceMemoryBandwidth: 1.41TiB/s\n",
      "2022-10-21 23:58:19.219300: I tensorflow/core/common_runtime/gpu/gpu_device.cc:1720] Found device 1 with properties: \n",
      "pciBusID: 0000:61:00.0 name: NVIDIA A100-PCIE-40GB computeCapability: 8.0\n",
      "coreClock: 1.41GHz coreCount: 108 deviceMemorySize: 39.41GiB deviceMemoryBandwidth: 1.41TiB/s\n",
      "2022-10-21 23:58:19.221255: I tensorflow/core/common_runtime/gpu/gpu_device.cc:1720] Found device 2 with properties: \n",
      "pciBusID: 0000:da:00.0 name: NVIDIA A100-PCIE-40GB computeCapability: 8.0\n",
      "coreClock: 1.41GHz coreCount: 108 deviceMemorySize: 39.41GiB deviceMemoryBandwidth: 1.41TiB/s\n",
      "2022-10-21 23:58:19.223195: I tensorflow/core/common_runtime/gpu/gpu_device.cc:1720] Found device 3 with properties: \n",
      "pciBusID: 0000:db:00.0 name: NVIDIA A100-PCIE-40GB computeCapability: 8.0\n",
      "coreClock: 1.41GHz coreCount: 108 deviceMemorySize: 39.41GiB deviceMemoryBandwidth: 1.41TiB/s\n",
      "2022-10-21 23:58:19.223229: I tensorflow/stream_executor/platform/default/dso_loader.cc:49] Successfully opened dynamic library libcudart.so.11.0\n",
      "2022-10-21 23:58:19.227404: I tensorflow/stream_executor/platform/default/dso_loader.cc:49] Successfully opened dynamic library libcublas.so.11\n",
      "2022-10-21 23:58:19.227465: I tensorflow/stream_executor/platform/default/dso_loader.cc:49] Successfully opened dynamic library libcublasLt.so.11\n",
      "2022-10-21 23:58:19.250203: I tensorflow/stream_executor/platform/default/dso_loader.cc:49] Successfully opened dynamic library libcufft.so.10\n",
      "2022-10-21 23:58:19.250483: I tensorflow/stream_executor/platform/default/dso_loader.cc:49] Successfully opened dynamic library libcurand.so.10\n",
      "2022-10-21 23:58:19.252033: I tensorflow/stream_executor/platform/default/dso_loader.cc:49] Successfully opened dynamic library libcusolver.so.10\n",
      "2022-10-21 23:58:19.254490: I tensorflow/stream_executor/platform/default/dso_loader.cc:49] Successfully opened dynamic library libcusparse.so.11\n",
      "2022-10-21 23:58:19.254646: I tensorflow/stream_executor/platform/default/dso_loader.cc:49] Successfully opened dynamic library libcudnn.so.8\n",
      "2022-10-21 23:58:19.269572: I tensorflow/core/common_runtime/gpu/gpu_device.cc:1862] Adding visible gpu devices: 0, 1, 2, 3\n"
     ]
    }
   ],
   "source": [
    "#select the working GPU\n",
    "\n",
    "gpus = tf.config.experimental.list_physical_devices('GPU')\n",
    "tf.config.experimental.set_visible_devices(gpus[1], 'GPU')\n",
    "tf.config.experimental.set_memory_growth(gpus[1], True)\n"
   ]
  },
  {
   "cell_type": "markdown",
   "metadata": {},
   "source": [
    "# 1.0 Import the dataset"
   ]
  },
  {
   "cell_type": "code",
   "execution_count": 3,
   "metadata": {},
   "outputs": [],
   "source": [
    "PATH_DIR = 'datasets_segmentation'\n",
    "training_dataset_dir = os.path.join(PATH_DIR, 'train')\n",
    "test_dataset_dir = os.path.join(PATH_DIR, 'test')"
   ]
  },
  {
   "cell_type": "code",
   "execution_count": 4,
   "metadata": {},
   "outputs": [],
   "source": [
    "train_img_list = glob.glob(os.path.join(training_dataset_dir, '*.jpg'))\n",
    "train_mask_list = glob.glob(os.path.join(training_dataset_dir, '*mask.jpg'))\n",
    "\n",
    "test_img_list = glob.glob(os.path.join(test_dataset_dir, '*.jpg'))\n",
    "test_mask_list = glob.glob(os.path.join(test_dataset_dir, '*mask.jpg'))\n"
   ]
  },
  {
   "cell_type": "markdown",
   "metadata": {},
   "source": [
    "## 1.1 Load images and masks in two separate arrays"
   ]
  },
  {
   "cell_type": "code",
   "execution_count": 5,
   "metadata": {},
   "outputs": [],
   "source": [
    "def loadData(imgList, maskList):\n",
    "    X = []\n",
    "    y = []\n",
    "    name_X = []\n",
    "    for i in tqdm(imgList):\n",
    "        for j in maskList:\n",
    "            img_name = os.path.split(i)[1].split('.jpg')[0].split('_')[1]\n",
    "            mask_name = os.path.split(j)[1].split('.jpg')[0].split('_')[1]\n",
    "\n",
    "            if img_name == mask_name:            \n",
    "                img = cv2.imread(i)\n",
    "                mask = cv2.imread(j,0)\n",
    "                X.append(img)\n",
    "                y.append(mask)\n",
    "                name_X.append(os.path.split(i)[1].split('.jpg')[0])\n",
    "        \n",
    "        \n",
    "        \n",
    "    return (np.array(X), np.array(y))"
   ]
  },
  {
   "cell_type": "code",
   "execution_count": 6,
   "metadata": {},
   "outputs": [
    {
     "data": {
      "application/vnd.jupyter.widget-view+json": {
       "model_id": "8823762aed9f40e2a63279452e37c59e",
       "version_major": 2,
       "version_minor": 0
      },
      "text/plain": [
       "  0%|          | 0/796 [00:00<?, ?it/s]"
      ]
     },
     "metadata": {},
     "output_type": "display_data"
    },
    {
     "name": "stderr",
     "output_type": "stream",
     "text": [
      "/tmp/ipykernel_2233823/3856444674.py:19: VisibleDeprecationWarning: Creating an ndarray from ragged nested sequences (which is a list-or-tuple of lists-or-tuples-or ndarrays with different lengths or shapes) is deprecated. If you meant to do this, you must specify 'dtype=object' when creating the ndarray\n",
      "  return (np.array(X), np.array(y))\n"
     ]
    },
    {
     "data": {
      "application/vnd.jupyter.widget-view+json": {
       "model_id": "e7758969c68d45b080bee9d378c4b352",
       "version_major": 2,
       "version_minor": 0
      },
      "text/plain": [
       "  0%|          | 0/204 [00:00<?, ?it/s]"
      ]
     },
     "metadata": {},
     "output_type": "display_data"
    }
   ],
   "source": [
    "#X,y are for training and validation\n",
    "X, y = loadData(train_img_list, train_mask_list)\n",
    "\n",
    "#X_test,y_test are for testing\n",
    "X_test, y_test = loadData(test_img_list, test_mask_list)"
   ]
  },
  {
   "cell_type": "markdown",
   "metadata": {},
   "source": [
    "## 1.2 Shuffle dataset"
   ]
  },
  {
   "cell_type": "code",
   "execution_count": 7,
   "metadata": {},
   "outputs": [],
   "source": [
    "#mask and image must be shuffled with the same index\n",
    "def custom_shuffle(img_array, mask_array):\n",
    "    assert len(img_array) == len(mask_array)\n",
    "    p = np.random.permutation(len(img_array))\n",
    "    return img_array[p], mask_array[p]"
   ]
  },
  {
   "cell_type": "code",
   "execution_count": 8,
   "metadata": {},
   "outputs": [],
   "source": [
    "X,y=custom_shuffle(X,y)\n",
    "X_test,y_test=custom_shuffle(X_test,y_test)"
   ]
  },
  {
   "cell_type": "markdown",
   "metadata": {},
   "source": [
    "# 2.0 Visualize the dataset"
   ]
  },
  {
   "cell_type": "code",
   "execution_count": 9,
   "metadata": {},
   "outputs": [],
   "source": [
    "img = X[1]\n",
    "mask = y[1]"
   ]
  },
  {
   "cell_type": "code",
   "execution_count": 10,
   "metadata": {},
   "outputs": [
    {
     "data": {
      "image/png": "[encoded data removed]",
      "text/plain": [
       "<Figure size 1400x1000 with 1 Axes>"
      ]
     },
     "metadata": {},
     "output_type": "display_data"
    }
   ],
   "source": [
    "# show the mask over the image\n",
    "plt.figure(figsize=(14,10))\n",
    "plt.imshow(cv2.cvtColor(img, cv2.COLOR_BGR2RGB))\n",
    "plt.imshow(mask, alpha=0.4)\n",
    "plt.show()"
   ]
  },
  {
   "cell_type": "markdown",
   "metadata": {},
   "source": [
    "# 3.0 Pre-process the dataset"
   ]
  },
  {
   "cell_type": "code",
   "execution_count": 11,
   "metadata": {},
   "outputs": [],
   "source": [
    "#input shape network\n",
    "in_net_h=224\n",
    "in_net_w=224\n",
    "net_channels=3"
   ]
  },
  {
   "cell_type": "code",
   "execution_count": 12,
   "metadata": {},
   "outputs": [],
   "source": [
    "#Resize the prediction mantaining the aspect ratio for X\n",
    "\n",
    "def resizeImage(X, width, force_dim=False, height = None):\n",
    "    X_res = []\n",
    "    for img in tqdm(X):\n",
    "        r = width / img.shape[1]\n",
    "        dim = (width, int(img.shape[0] * r))\n",
    "        # not mantain the ratio\n",
    "        if force_dim:\n",
    "            img_resized = cv2.resize(img.astype('uint8'), (width,height), interpolation = cv2.INTER_AREA)\n",
    "        else:\n",
    "            img_resized = cv2.resize(img.astype('uint8'), dim, interpolation = cv2.INTER_AREA)\n",
    "        X_res.append(img_resized)\n",
    "        \n",
    "    return np.array(X_res)"
   ]
  },
  {
   "cell_type": "code",
   "execution_count": 13,
   "metadata": {},
   "outputs": [],
   "source": [
    "#Resize the prediction mantaining the aspect ratio for y\n",
    "def resizeImage_y(y, width, force_dim=False, height = None):\n",
    "    y_res = []\n",
    "    for img,img1 in tqdm(zip(y[:,0],y[:,1])):\n",
    "        \n",
    "        \n",
    "        r = width / img.shape[1]\n",
    "        dim = (width, int(img.shape[0] * r))\n",
    "        # not mantain the ratio\n",
    "        if force_dim:\n",
    "            img_resized = cv2.resize(img.astype('uint8'), (width,height), interpolation = cv2.INTER_AREA)\n",
    "        else:\n",
    "            img_resized = cv2.resize(img.astype('uint8'), dim, interpolation = cv2.INTER_AREA)\n",
    "            \n",
    "        r = width / img1.shape[1]\n",
    "        dim = (width, int(img1.shape[0] * r))\n",
    "        # not mantain the ratio\n",
    "        if force_dim:\n",
    "            img_resized1 = cv2.resize(img1.astype('uint8'), (width,height), interpolation = cv2.INTER_AREA)\n",
    "        else:\n",
    "            img_resized1 = cv2.resize(img1.astype('uint8'), dim, interpolation = cv2.INTER_AREA)\n",
    "            \n",
    "            \n",
    "        y_res.append([img_resized,img_resized1])\n",
    "    \n",
    "    return np.array(y_res)"
   ]
  },
  {
   "cell_type": "code",
   "execution_count": 14,
   "metadata": {},
   "outputs": [],
   "source": [
    "def normalize(X):\n",
    "    return (X / 255)"
   ]
  },
  {
   "cell_type": "markdown",
   "metadata": {},
   "source": [
    "## 3.1 Resize the dataset"
   ]
  },
  {
   "cell_type": "code",
   "execution_count": 15,
   "metadata": {},
   "outputs": [
    {
     "data": {
      "application/vnd.jupyter.widget-view+json": {
       "model_id": "d6a65fa308d447818c066b433fe915d2",
       "version_major": 2,
       "version_minor": 0
      },
      "text/plain": [
       "  0%|          | 0/796 [00:00<?, ?it/s]"
      ]
     },
     "metadata": {},
     "output_type": "display_data"
    },
    {
     "data": {
      "application/vnd.jupyter.widget-view+json": {
       "model_id": "41531899118846fe900b26dbf00103f8",
       "version_major": 2,
       "version_minor": 0
      },
      "text/plain": [
       "  0%|          | 0/204 [00:00<?, ?it/s]"
      ]
     },
     "metadata": {},
     "output_type": "display_data"
    },
    {
     "data": {
      "application/vnd.jupyter.widget-view+json": {
       "model_id": "fff874c526df42d29e6dcafd896442b3",
       "version_major": 2,
       "version_minor": 0
      },
      "text/plain": [
       "  0%|          | 0/796 [00:00<?, ?it/s]"
      ]
     },
     "metadata": {},
     "output_type": "display_data"
    },
    {
     "data": {
      "application/vnd.jupyter.widget-view+json": {
       "model_id": "9a71fcc69f4b477395df360bd62489e5",
       "version_major": 2,
       "version_minor": 0
      },
      "text/plain": [
       "  0%|          | 0/204 [00:00<?, ?it/s]"
      ]
     },
     "metadata": {},
     "output_type": "display_data"
    }
   ],
   "source": [
    "#Resize the images and masks with the accepted dimensions by the network\n",
    "\n",
    "X = resizeImage(X, in_net_w, force_dim=True, height = in_net_h)\n",
    "X_test = resizeImage(X=X_test,width= in_net_w, force_dim=True, height = in_net_h)\n",
    "\n",
    "y = resizeImage(y, in_net_w, force_dim=True, height = in_net_h)\n",
    "y_test = resizeImage(X=y_test, width=in_net_w, force_dim=True, height = in_net_h)"
   ]
  },
  {
   "cell_type": "markdown",
   "metadata": {},
   "source": [
    "## 3.2 Normalize the dataset"
   ]
  },
  {
   "cell_type": "code",
   "execution_count": 16,
   "metadata": {},
   "outputs": [],
   "source": [
    "X = normalize(X)\n",
    "X_test = normalize(X=X_test)"
   ]
  },
  {
   "cell_type": "code",
   "execution_count": 17,
   "metadata": {},
   "outputs": [],
   "source": [
    "y= normalize(y)\n",
    "y_test= normalize(X=y_test)"
   ]
  },
  {
   "cell_type": "code",
   "execution_count": 18,
   "metadata": {},
   "outputs": [],
   "source": [
    "#Apply a threshold to have 0,1 despite the resizing\n",
    "y[y>=(0.5)]=1.0    \n",
    "y[y<(0.5)]=0.0\n",
    "\n",
    "#Apply a threshold to have 0,1 despite the resizing\n",
    "y_test[y_test>=(0.5)]=1.0\n",
    "y_test[y_test<(0.5)]=0.0"
   ]
  },
  {
   "cell_type": "markdown",
   "metadata": {},
   "source": [
    "# 4.0 Build and Train model"
   ]
  },
  {
   "cell_type": "code",
   "execution_count": 19,
   "metadata": {},
   "outputs": [],
   "source": [
    "from tensorflow.keras.callbacks import ModelCheckpoint, TensorBoard\n",
    "from datetime import datetime\n",
    "\n",
    "from tensorflow.keras.models import Model,load_model\n",
    "\n",
    "from tensorflow.keras.layers import Conv2D, BatchNormalization, ReLU, Activation, Input, Add, AveragePooling2D\n",
    "from tensorflow.keras.layers import GlobalAveragePooling2D, Reshape,Dropout, Multiply, Flatten,UpSampling2D\n",
    "from tensorflow.keras.losses import BinaryCrossentropy\n",
    "\n",
    "\n",
    "from tensorflow.keras.metrics import MeanIoU\n",
    "from tensorflow.keras.optimizers import SGD,RMSprop,Adam\n",
    "from tensorflow.keras.utils import get_custom_objects"
   ]
  },
  {
   "cell_type": "code",
   "execution_count": 20,
   "metadata": {},
   "outputs": [],
   "source": [
    "#import network\n",
    "from tensorflow.keras.applications import MobileNetV3Large"
   ]
  },
  {
   "cell_type": "code",
   "execution_count": 21,
   "metadata": {},
   "outputs": [],
   "source": [
    "#Save checkpoints\n",
    "\n",
    "model_dir = os.path.join(PATH_DIR, 'bin')\n",
    "\n",
    "if not os.path.exists(model_dir):\n",
    "    os.mkdir(model_dir)\n",
    "    \n",
    "name = 'MobileNet_V3'\n",
    "now = datetime.utcnow().strftime(\"%Y%m%d%H%M%S\")\n",
    "root_logdir = \"logs\"\n",
    "logdir = \"{}/run-{}_{}/\".format(root_logdir, now,name)\n",
    "\n",
    "backup_model_path = os.path.join(model_dir, '{}.h5'.format(name))\n",
    "backup_weights_path = os.path.join(model_dir, '{}_weights.h5'.format(name))\n",
    "\n",
    "\n",
    "checkpointer = ModelCheckpoint(filepath=backup_weights_path, \n",
    "                               monitor = 'loss',\n",
    "                               verbose=1, \n",
    "                               save_best_only=True)"
   ]
  },
  {
   "cell_type": "markdown",
   "metadata": {},
   "source": [
    "## 4.1 Building model"
   ]
  },
  {
   "cell_type": "code",
   "execution_count": 22,
   "metadata": {},
   "outputs": [],
   "source": [
    "#Define custom activation function\n",
    "def hard_swish(x):\n",
    "    return x * tf.nn.relu6(x + 3) / 6"
   ]
  },
  {
   "cell_type": "code",
   "execution_count": 35,
   "metadata": {},
   "outputs": [
    {
     "name": "stdout",
     "output_type": "stream",
     "text": [
      "Model: \"MobilenetV3large\"\n",
      "__________________________________________________________________________________________________\n",
      "Layer (type)                    Output Shape         Param #     Connected to                     \n",
      "==================================================================================================\n",
      "input_5 (InputLayer)            [(None, 224, 224, 3) 0                                            \n",
      "__________________________________________________________________________________________________\n",
      "rescaling_4 (Rescaling)         (None, 224, 224, 3)  0           input_5[0][0]                    \n",
      "__________________________________________________________________________________________________\n",
      "Conv (Conv2D)                   (None, 112, 112, 16) 432         rescaling_4[0][0]                \n",
      "__________________________________________________________________________________________________\n",
      "Conv/BatchNorm (BatchNormalizat (None, 112, 112, 16) 64          Conv[0][0]                       \n",
      "__________________________________________________________________________________________________\n",
      "tf.__operators__.add_116 (TFOpL (None, 112, 112, 16) 0           Conv/BatchNorm[0][0]             \n",
      "__________________________________________________________________________________________________\n",
      "re_lu_160 (ReLU)                (None, 112, 112, 16) 0           tf.__operators__.add_116[0][0]   \n",
      "__________________________________________________________________________________________________\n",
      "tf.math.multiply_116 (TFOpLambd (None, 112, 112, 16) 0           re_lu_160[0][0]                  \n",
      "__________________________________________________________________________________________________\n",
      "multiply_84 (Multiply)          (None, 112, 112, 16) 0           tf.math.multiply_116[0][0]       \n",
      "                                                                 Conv/BatchNorm[0][0]             \n",
      "__________________________________________________________________________________________________\n",
      "expanded_conv/depthwise (Depthw (None, 112, 112, 16) 144         multiply_84[0][0]                \n",
      "__________________________________________________________________________________________________\n",
      "expanded_conv/depthwise/BatchNo (None, 112, 112, 16) 64          expanded_conv/depthwise[0][0]    \n",
      "__________________________________________________________________________________________________\n",
      "re_lu_161 (ReLU)                (None, 112, 112, 16) 0           expanded_conv/depthwise/BatchNorm\n",
      "__________________________________________________________________________________________________\n",
      "expanded_conv/project (Conv2D)  (None, 112, 112, 16) 256         re_lu_161[0][0]                  \n",
      "__________________________________________________________________________________________________\n",
      "expanded_conv/project/BatchNorm (None, 112, 112, 16) 64          expanded_conv/project[0][0]      \n",
      "__________________________________________________________________________________________________\n",
      "expanded_conv/Add (Add)         (None, 112, 112, 16) 0           multiply_84[0][0]                \n",
      "                                                                 expanded_conv/project/BatchNorm[0\n",
      "__________________________________________________________________________________________________\n",
      "expanded_conv_1/expand (Conv2D) (None, 112, 112, 64) 1024        expanded_conv/Add[0][0]          \n",
      "__________________________________________________________________________________________________\n",
      "expanded_conv_1/expand/BatchNor (None, 112, 112, 64) 256         expanded_conv_1/expand[0][0]     \n",
      "__________________________________________________________________________________________________\n",
      "re_lu_162 (ReLU)                (None, 112, 112, 64) 0           expanded_conv_1/expand/BatchNorm[\n",
      "__________________________________________________________________________________________________\n",
      "expanded_conv_1/depthwise/pad ( (None, 113, 113, 64) 0           re_lu_162[0][0]                  \n",
      "__________________________________________________________________________________________________\n",
      "expanded_conv_1/depthwise (Dept (None, 56, 56, 64)   576         expanded_conv_1/depthwise/pad[0][\n",
      "__________________________________________________________________________________________________\n",
      "expanded_conv_1/depthwise/Batch (None, 56, 56, 64)   256         expanded_conv_1/depthwise[0][0]  \n",
      "__________________________________________________________________________________________________\n",
      "re_lu_163 (ReLU)                (None, 56, 56, 64)   0           expanded_conv_1/depthwise/BatchNo\n",
      "__________________________________________________________________________________________________\n",
      "expanded_conv_1/project (Conv2D (None, 56, 56, 24)   1536        re_lu_163[0][0]                  \n",
      "__________________________________________________________________________________________________\n",
      "expanded_conv_1/project/BatchNo (None, 56, 56, 24)   96          expanded_conv_1/project[0][0]    \n",
      "__________________________________________________________________________________________________\n",
      "expanded_conv_2/expand (Conv2D) (None, 56, 56, 72)   1728        expanded_conv_1/project/BatchNorm\n",
      "__________________________________________________________________________________________________\n",
      "expanded_conv_2/expand/BatchNor (None, 56, 56, 72)   288         expanded_conv_2/expand[0][0]     \n",
      "__________________________________________________________________________________________________\n",
      "re_lu_164 (ReLU)                (None, 56, 56, 72)   0           expanded_conv_2/expand/BatchNorm[\n",
      "__________________________________________________________________________________________________\n",
      "expanded_conv_2/depthwise (Dept (None, 56, 56, 72)   648         re_lu_164[0][0]                  \n",
      "__________________________________________________________________________________________________\n",
      "expanded_conv_2/depthwise/Batch (None, 56, 56, 72)   288         expanded_conv_2/depthwise[0][0]  \n",
      "__________________________________________________________________________________________________\n",
      "re_lu_165 (ReLU)                (None, 56, 56, 72)   0           expanded_conv_2/depthwise/BatchNo\n",
      "__________________________________________________________________________________________________\n",
      "expanded_conv_2/project (Conv2D (None, 56, 56, 24)   1728        re_lu_165[0][0]                  \n",
      "__________________________________________________________________________________________________\n",
      "expanded_conv_2/project/BatchNo (None, 56, 56, 24)   96          expanded_conv_2/project[0][0]    \n",
      "__________________________________________________________________________________________________\n",
      "expanded_conv_2/Add (Add)       (None, 56, 56, 24)   0           expanded_conv_1/project/BatchNorm\n",
      "                                                                 expanded_conv_2/project/BatchNorm\n",
      "__________________________________________________________________________________________________\n",
      "expanded_conv_3/expand (Conv2D) (None, 56, 56, 72)   1728        expanded_conv_2/Add[0][0]        \n",
      "__________________________________________________________________________________________________\n",
      "expanded_conv_3/expand/BatchNor (None, 56, 56, 72)   288         expanded_conv_3/expand[0][0]     \n",
      "__________________________________________________________________________________________________\n",
      "re_lu_166 (ReLU)                (None, 56, 56, 72)   0           expanded_conv_3/expand/BatchNorm[\n",
      "__________________________________________________________________________________________________\n",
      "expanded_conv_3/depthwise/pad ( (None, 59, 59, 72)   0           re_lu_166[0][0]                  \n",
      "__________________________________________________________________________________________________\n",
      "expanded_conv_3/depthwise (Dept (None, 28, 28, 72)   1800        expanded_conv_3/depthwise/pad[0][\n",
      "__________________________________________________________________________________________________\n",
      "expanded_conv_3/depthwise/Batch (None, 28, 28, 72)   288         expanded_conv_3/depthwise[0][0]  \n",
      "__________________________________________________________________________________________________\n",
      "re_lu_167 (ReLU)                (None, 28, 28, 72)   0           expanded_conv_3/depthwise/BatchNo\n",
      "__________________________________________________________________________________________________\n",
      "expanded_conv_3/squeeze_excite/ (None, 72)           0           re_lu_167[0][0]                  \n",
      "__________________________________________________________________________________________________\n",
      "reshape_32 (Reshape)            (None, 1, 1, 72)     0           expanded_conv_3/squeeze_excite/Av\n",
      "__________________________________________________________________________________________________\n",
      "expanded_conv_3/squeeze_excite/ (None, 1, 1, 24)     1752        reshape_32[0][0]                 \n",
      "__________________________________________________________________________________________________\n",
      "expanded_conv_3/squeeze_excite/ (None, 1, 1, 24)     0           expanded_conv_3/squeeze_excite/Co\n",
      "__________________________________________________________________________________________________\n",
      "expanded_conv_3/squeeze_excite/ (None, 1, 1, 72)     1800        expanded_conv_3/squeeze_excite/Re\n",
      "__________________________________________________________________________________________________\n",
      "tf.__operators__.add_117 (TFOpL (None, 1, 1, 72)     0           expanded_conv_3/squeeze_excite/Co\n",
      "__________________________________________________________________________________________________\n",
      "re_lu_168 (ReLU)                (None, 1, 1, 72)     0           tf.__operators__.add_117[0][0]   \n",
      "__________________________________________________________________________________________________\n",
      "tf.math.multiply_117 (TFOpLambd (None, 1, 1, 72)     0           re_lu_168[0][0]                  \n",
      "__________________________________________________________________________________________________\n",
      "expanded_conv_3/squeeze_excite/ (None, 28, 28, 72)   0           re_lu_167[0][0]                  \n",
      "                                                                 tf.math.multiply_117[0][0]       \n",
      "__________________________________________________________________________________________________\n",
      "expanded_conv_3/project (Conv2D (None, 28, 28, 40)   2880        expanded_conv_3/squeeze_excite/Mu\n",
      "__________________________________________________________________________________________________\n",
      "expanded_conv_3/project/BatchNo (None, 28, 28, 40)   160         expanded_conv_3/project[0][0]    \n",
      "__________________________________________________________________________________________________\n",
      "expanded_conv_4/expand (Conv2D) (None, 28, 28, 120)  4800        expanded_conv_3/project/BatchNorm\n",
      "__________________________________________________________________________________________________\n",
      "expanded_conv_4/expand/BatchNor (None, 28, 28, 120)  480         expanded_conv_4/expand[0][0]     \n",
      "__________________________________________________________________________________________________\n",
      "re_lu_169 (ReLU)                (None, 28, 28, 120)  0           expanded_conv_4/expand/BatchNorm[\n",
      "__________________________________________________________________________________________________\n",
      "expanded_conv_4/depthwise (Dept (None, 28, 28, 120)  3000        re_lu_169[0][0]                  \n",
      "__________________________________________________________________________________________________\n",
      "expanded_conv_4/depthwise/Batch (None, 28, 28, 120)  480         expanded_conv_4/depthwise[0][0]  \n",
      "__________________________________________________________________________________________________\n",
      "re_lu_170 (ReLU)                (None, 28, 28, 120)  0           expanded_conv_4/depthwise/BatchNo\n",
      "__________________________________________________________________________________________________\n",
      "expanded_conv_4/squeeze_excite/ (None, 120)          0           re_lu_170[0][0]                  \n",
      "__________________________________________________________________________________________________\n",
      "reshape_33 (Reshape)            (None, 1, 1, 120)    0           expanded_conv_4/squeeze_excite/Av\n",
      "__________________________________________________________________________________________________\n",
      "expanded_conv_4/squeeze_excite/ (None, 1, 1, 32)     3872        reshape_33[0][0]                 \n",
      "__________________________________________________________________________________________________\n",
      "expanded_conv_4/squeeze_excite/ (None, 1, 1, 32)     0           expanded_conv_4/squeeze_excite/Co\n",
      "__________________________________________________________________________________________________\n",
      "expanded_conv_4/squeeze_excite/ (None, 1, 1, 120)    3960        expanded_conv_4/squeeze_excite/Re\n",
      "__________________________________________________________________________________________________\n",
      "tf.__operators__.add_118 (TFOpL (None, 1, 1, 120)    0           expanded_conv_4/squeeze_excite/Co\n",
      "__________________________________________________________________________________________________\n",
      "re_lu_171 (ReLU)                (None, 1, 1, 120)    0           tf.__operators__.add_118[0][0]   \n",
      "__________________________________________________________________________________________________\n",
      "tf.math.multiply_118 (TFOpLambd (None, 1, 1, 120)    0           re_lu_171[0][0]                  \n",
      "__________________________________________________________________________________________________\n",
      "expanded_conv_4/squeeze_excite/ (None, 28, 28, 120)  0           re_lu_170[0][0]                  \n",
      "                                                                 tf.math.multiply_118[0][0]       \n",
      "__________________________________________________________________________________________________\n",
      "expanded_conv_4/project (Conv2D (None, 28, 28, 40)   4800        expanded_conv_4/squeeze_excite/Mu\n",
      "__________________________________________________________________________________________________\n",
      "expanded_conv_4/project/BatchNo (None, 28, 28, 40)   160         expanded_conv_4/project[0][0]    \n",
      "__________________________________________________________________________________________________\n",
      "expanded_conv_4/Add (Add)       (None, 28, 28, 40)   0           expanded_conv_3/project/BatchNorm\n",
      "                                                                 expanded_conv_4/project/BatchNorm\n",
      "__________________________________________________________________________________________________\n",
      "expanded_conv_5/expand (Conv2D) (None, 28, 28, 120)  4800        expanded_conv_4/Add[0][0]        \n",
      "__________________________________________________________________________________________________\n",
      "expanded_conv_5/expand/BatchNor (None, 28, 28, 120)  480         expanded_conv_5/expand[0][0]     \n",
      "__________________________________________________________________________________________________\n",
      "re_lu_172 (ReLU)                (None, 28, 28, 120)  0           expanded_conv_5/expand/BatchNorm[\n",
      "__________________________________________________________________________________________________\n",
      "expanded_conv_5/depthwise (Dept (None, 28, 28, 120)  3000        re_lu_172[0][0]                  \n",
      "__________________________________________________________________________________________________\n",
      "expanded_conv_5/depthwise/Batch (None, 28, 28, 120)  480         expanded_conv_5/depthwise[0][0]  \n",
      "__________________________________________________________________________________________________\n",
      "re_lu_173 (ReLU)                (None, 28, 28, 120)  0           expanded_conv_5/depthwise/BatchNo\n",
      "__________________________________________________________________________________________________\n",
      "expanded_conv_5/squeeze_excite/ (None, 120)          0           re_lu_173[0][0]                  \n",
      "__________________________________________________________________________________________________\n",
      "reshape_34 (Reshape)            (None, 1, 1, 120)    0           expanded_conv_5/squeeze_excite/Av\n",
      "__________________________________________________________________________________________________\n",
      "expanded_conv_5/squeeze_excite/ (None, 1, 1, 32)     3872        reshape_34[0][0]                 \n",
      "__________________________________________________________________________________________________\n",
      "expanded_conv_5/squeeze_excite/ (None, 1, 1, 32)     0           expanded_conv_5/squeeze_excite/Co\n",
      "__________________________________________________________________________________________________\n",
      "expanded_conv_5/squeeze_excite/ (None, 1, 1, 120)    3960        expanded_conv_5/squeeze_excite/Re\n",
      "__________________________________________________________________________________________________\n",
      "tf.__operators__.add_119 (TFOpL (None, 1, 1, 120)    0           expanded_conv_5/squeeze_excite/Co\n",
      "__________________________________________________________________________________________________\n",
      "re_lu_174 (ReLU)                (None, 1, 1, 120)    0           tf.__operators__.add_119[0][0]   \n",
      "__________________________________________________________________________________________________\n",
      "tf.math.multiply_119 (TFOpLambd (None, 1, 1, 120)    0           re_lu_174[0][0]                  \n",
      "__________________________________________________________________________________________________\n",
      "expanded_conv_5/squeeze_excite/ (None, 28, 28, 120)  0           re_lu_173[0][0]                  \n",
      "                                                                 tf.math.multiply_119[0][0]       \n",
      "__________________________________________________________________________________________________\n",
      "expanded_conv_5/project (Conv2D (None, 28, 28, 40)   4800        expanded_conv_5/squeeze_excite/Mu\n",
      "__________________________________________________________________________________________________\n",
      "expanded_conv_5/project/BatchNo (None, 28, 28, 40)   160         expanded_conv_5/project[0][0]    \n",
      "__________________________________________________________________________________________________\n",
      "expanded_conv_5/Add (Add)       (None, 28, 28, 40)   0           expanded_conv_4/Add[0][0]        \n",
      "                                                                 expanded_conv_5/project/BatchNorm\n",
      "__________________________________________________________________________________________________\n",
      "expanded_conv_6/expand (Conv2D) (None, 28, 28, 240)  9600        expanded_conv_5/Add[0][0]        \n",
      "__________________________________________________________________________________________________\n",
      "expanded_conv_6/expand/BatchNor (None, 28, 28, 240)  960         expanded_conv_6/expand[0][0]     \n",
      "__________________________________________________________________________________________________\n",
      "tf.__operators__.add_120 (TFOpL (None, 28, 28, 240)  0           expanded_conv_6/expand/BatchNorm[\n",
      "__________________________________________________________________________________________________\n",
      "re_lu_175 (ReLU)                (None, 28, 28, 240)  0           tf.__operators__.add_120[0][0]   \n",
      "__________________________________________________________________________________________________\n",
      "tf.math.multiply_120 (TFOpLambd (None, 28, 28, 240)  0           re_lu_175[0][0]                  \n",
      "__________________________________________________________________________________________________\n",
      "multiply_85 (Multiply)          (None, 28, 28, 240)  0           tf.math.multiply_120[0][0]       \n",
      "                                                                 expanded_conv_6/expand/BatchNorm[\n",
      "__________________________________________________________________________________________________\n",
      "expanded_conv_6/depthwise/pad ( (None, 29, 29, 240)  0           multiply_85[0][0]                \n",
      "__________________________________________________________________________________________________\n",
      "expanded_conv_6/depthwise (Dept (None, 14, 14, 240)  2160        expanded_conv_6/depthwise/pad[0][\n",
      "__________________________________________________________________________________________________\n",
      "expanded_conv_6/depthwise/Batch (None, 14, 14, 240)  960         expanded_conv_6/depthwise[0][0]  \n",
      "__________________________________________________________________________________________________\n",
      "tf.__operators__.add_121 (TFOpL (None, 14, 14, 240)  0           expanded_conv_6/depthwise/BatchNo\n",
      "__________________________________________________________________________________________________\n",
      "re_lu_176 (ReLU)                (None, 14, 14, 240)  0           tf.__operators__.add_121[0][0]   \n",
      "__________________________________________________________________________________________________\n",
      "tf.math.multiply_121 (TFOpLambd (None, 14, 14, 240)  0           re_lu_176[0][0]                  \n",
      "__________________________________________________________________________________________________\n",
      "multiply_86 (Multiply)          (None, 14, 14, 240)  0           tf.math.multiply_121[0][0]       \n",
      "                                                                 expanded_conv_6/depthwise/BatchNo\n",
      "__________________________________________________________________________________________________\n",
      "expanded_conv_6/project (Conv2D (None, 14, 14, 80)   19200       multiply_86[0][0]                \n",
      "__________________________________________________________________________________________________\n",
      "expanded_conv_6/project/BatchNo (None, 14, 14, 80)   320         expanded_conv_6/project[0][0]    \n",
      "__________________________________________________________________________________________________\n",
      "expanded_conv_7/expand (Conv2D) (None, 14, 14, 200)  16000       expanded_conv_6/project/BatchNorm\n",
      "__________________________________________________________________________________________________\n",
      "expanded_conv_7/expand/BatchNor (None, 14, 14, 200)  800         expanded_conv_7/expand[0][0]     \n",
      "__________________________________________________________________________________________________\n",
      "tf.__operators__.add_122 (TFOpL (None, 14, 14, 200)  0           expanded_conv_7/expand/BatchNorm[\n",
      "__________________________________________________________________________________________________\n",
      "re_lu_177 (ReLU)                (None, 14, 14, 200)  0           tf.__operators__.add_122[0][0]   \n",
      "__________________________________________________________________________________________________\n",
      "tf.math.multiply_122 (TFOpLambd (None, 14, 14, 200)  0           re_lu_177[0][0]                  \n",
      "__________________________________________________________________________________________________\n",
      "multiply_87 (Multiply)          (None, 14, 14, 200)  0           tf.math.multiply_122[0][0]       \n",
      "                                                                 expanded_conv_7/expand/BatchNorm[\n",
      "__________________________________________________________________________________________________\n",
      "expanded_conv_7/depthwise (Dept (None, 14, 14, 200)  1800        multiply_87[0][0]                \n",
      "__________________________________________________________________________________________________\n",
      "expanded_conv_7/depthwise/Batch (None, 14, 14, 200)  800         expanded_conv_7/depthwise[0][0]  \n",
      "__________________________________________________________________________________________________\n",
      "tf.__operators__.add_123 (TFOpL (None, 14, 14, 200)  0           expanded_conv_7/depthwise/BatchNo\n",
      "__________________________________________________________________________________________________\n",
      "re_lu_178 (ReLU)                (None, 14, 14, 200)  0           tf.__operators__.add_123[0][0]   \n",
      "__________________________________________________________________________________________________\n",
      "tf.math.multiply_123 (TFOpLambd (None, 14, 14, 200)  0           re_lu_178[0][0]                  \n",
      "__________________________________________________________________________________________________\n",
      "multiply_88 (Multiply)          (None, 14, 14, 200)  0           tf.math.multiply_123[0][0]       \n",
      "                                                                 expanded_conv_7/depthwise/BatchNo\n",
      "__________________________________________________________________________________________________\n",
      "expanded_conv_7/project (Conv2D (None, 14, 14, 80)   16000       multiply_88[0][0]                \n",
      "__________________________________________________________________________________________________\n",
      "expanded_conv_7/project/BatchNo (None, 14, 14, 80)   320         expanded_conv_7/project[0][0]    \n",
      "__________________________________________________________________________________________________\n",
      "expanded_conv_7/Add (Add)       (None, 14, 14, 80)   0           expanded_conv_6/project/BatchNorm\n",
      "                                                                 expanded_conv_7/project/BatchNorm\n",
      "__________________________________________________________________________________________________\n",
      "expanded_conv_8/expand (Conv2D) (None, 14, 14, 184)  14720       expanded_conv_7/Add[0][0]        \n",
      "__________________________________________________________________________________________________\n",
      "expanded_conv_8/expand/BatchNor (None, 14, 14, 184)  736         expanded_conv_8/expand[0][0]     \n",
      "__________________________________________________________________________________________________\n",
      "tf.__operators__.add_124 (TFOpL (None, 14, 14, 184)  0           expanded_conv_8/expand/BatchNorm[\n",
      "__________________________________________________________________________________________________\n",
      "re_lu_179 (ReLU)                (None, 14, 14, 184)  0           tf.__operators__.add_124[0][0]   \n",
      "__________________________________________________________________________________________________\n",
      "tf.math.multiply_124 (TFOpLambd (None, 14, 14, 184)  0           re_lu_179[0][0]                  \n",
      "__________________________________________________________________________________________________\n",
      "multiply_89 (Multiply)          (None, 14, 14, 184)  0           tf.math.multiply_124[0][0]       \n",
      "                                                                 expanded_conv_8/expand/BatchNorm[\n",
      "__________________________________________________________________________________________________\n",
      "expanded_conv_8/depthwise (Dept (None, 14, 14, 184)  1656        multiply_89[0][0]                \n",
      "__________________________________________________________________________________________________\n",
      "expanded_conv_8/depthwise/Batch (None, 14, 14, 184)  736         expanded_conv_8/depthwise[0][0]  \n",
      "__________________________________________________________________________________________________\n",
      "tf.__operators__.add_125 (TFOpL (None, 14, 14, 184)  0           expanded_conv_8/depthwise/BatchNo\n",
      "__________________________________________________________________________________________________\n",
      "re_lu_180 (ReLU)                (None, 14, 14, 184)  0           tf.__operators__.add_125[0][0]   \n",
      "__________________________________________________________________________________________________\n",
      "tf.math.multiply_125 (TFOpLambd (None, 14, 14, 184)  0           re_lu_180[0][0]                  \n",
      "__________________________________________________________________________________________________\n",
      "multiply_90 (Multiply)          (None, 14, 14, 184)  0           tf.math.multiply_125[0][0]       \n",
      "                                                                 expanded_conv_8/depthwise/BatchNo\n",
      "__________________________________________________________________________________________________\n",
      "expanded_conv_8/project (Conv2D (None, 14, 14, 80)   14720       multiply_90[0][0]                \n",
      "__________________________________________________________________________________________________\n",
      "expanded_conv_8/project/BatchNo (None, 14, 14, 80)   320         expanded_conv_8/project[0][0]    \n",
      "__________________________________________________________________________________________________\n",
      "expanded_conv_8/Add (Add)       (None, 14, 14, 80)   0           expanded_conv_7/Add[0][0]        \n",
      "                                                                 expanded_conv_8/project/BatchNorm\n",
      "__________________________________________________________________________________________________\n",
      "expanded_conv_9/expand (Conv2D) (None, 14, 14, 184)  14720       expanded_conv_8/Add[0][0]        \n",
      "__________________________________________________________________________________________________\n",
      "expanded_conv_9/expand/BatchNor (None, 14, 14, 184)  736         expanded_conv_9/expand[0][0]     \n",
      "__________________________________________________________________________________________________\n",
      "tf.__operators__.add_126 (TFOpL (None, 14, 14, 184)  0           expanded_conv_9/expand/BatchNorm[\n",
      "__________________________________________________________________________________________________\n",
      "re_lu_181 (ReLU)                (None, 14, 14, 184)  0           tf.__operators__.add_126[0][0]   \n",
      "__________________________________________________________________________________________________\n",
      "tf.math.multiply_126 (TFOpLambd (None, 14, 14, 184)  0           re_lu_181[0][0]                  \n",
      "__________________________________________________________________________________________________\n",
      "multiply_91 (Multiply)          (None, 14, 14, 184)  0           tf.math.multiply_126[0][0]       \n",
      "                                                                 expanded_conv_9/expand/BatchNorm[\n",
      "__________________________________________________________________________________________________\n",
      "expanded_conv_9/depthwise (Dept (None, 14, 14, 184)  1656        multiply_91[0][0]                \n",
      "__________________________________________________________________________________________________\n",
      "expanded_conv_9/depthwise/Batch (None, 14, 14, 184)  736         expanded_conv_9/depthwise[0][0]  \n",
      "__________________________________________________________________________________________________\n",
      "tf.__operators__.add_127 (TFOpL (None, 14, 14, 184)  0           expanded_conv_9/depthwise/BatchNo\n",
      "__________________________________________________________________________________________________\n",
      "re_lu_182 (ReLU)                (None, 14, 14, 184)  0           tf.__operators__.add_127[0][0]   \n",
      "__________________________________________________________________________________________________\n",
      "tf.math.multiply_127 (TFOpLambd (None, 14, 14, 184)  0           re_lu_182[0][0]                  \n",
      "__________________________________________________________________________________________________\n",
      "multiply_92 (Multiply)          (None, 14, 14, 184)  0           tf.math.multiply_127[0][0]       \n",
      "                                                                 expanded_conv_9/depthwise/BatchNo\n",
      "__________________________________________________________________________________________________\n",
      "expanded_conv_9/project (Conv2D (None, 14, 14, 80)   14720       multiply_92[0][0]                \n",
      "__________________________________________________________________________________________________\n",
      "expanded_conv_9/project/BatchNo (None, 14, 14, 80)   320         expanded_conv_9/project[0][0]    \n",
      "__________________________________________________________________________________________________\n",
      "expanded_conv_9/Add (Add)       (None, 14, 14, 80)   0           expanded_conv_8/Add[0][0]        \n",
      "                                                                 expanded_conv_9/project/BatchNorm\n",
      "__________________________________________________________________________________________________\n",
      "expanded_conv_10/expand (Conv2D (None, 14, 14, 480)  38400       expanded_conv_9/Add[0][0]        \n",
      "__________________________________________________________________________________________________\n",
      "expanded_conv_10/expand/BatchNo (None, 14, 14, 480)  1920        expanded_conv_10/expand[0][0]    \n",
      "__________________________________________________________________________________________________\n",
      "tf.__operators__.add_128 (TFOpL (None, 14, 14, 480)  0           expanded_conv_10/expand/BatchNorm\n",
      "__________________________________________________________________________________________________\n",
      "re_lu_183 (ReLU)                (None, 14, 14, 480)  0           tf.__operators__.add_128[0][0]   \n",
      "__________________________________________________________________________________________________\n",
      "tf.math.multiply_128 (TFOpLambd (None, 14, 14, 480)  0           re_lu_183[0][0]                  \n",
      "__________________________________________________________________________________________________\n",
      "multiply_93 (Multiply)          (None, 14, 14, 480)  0           tf.math.multiply_128[0][0]       \n",
      "                                                                 expanded_conv_10/expand/BatchNorm\n",
      "__________________________________________________________________________________________________\n",
      "expanded_conv_10/depthwise (Dep (None, 14, 14, 480)  4320        multiply_93[0][0]                \n",
      "__________________________________________________________________________________________________\n",
      "expanded_conv_10/depthwise/Batc (None, 14, 14, 480)  1920        expanded_conv_10/depthwise[0][0] \n",
      "__________________________________________________________________________________________________\n",
      "tf.__operators__.add_129 (TFOpL (None, 14, 14, 480)  0           expanded_conv_10/depthwise/BatchN\n",
      "__________________________________________________________________________________________________\n",
      "re_lu_184 (ReLU)                (None, 14, 14, 480)  0           tf.__operators__.add_129[0][0]   \n",
      "__________________________________________________________________________________________________\n",
      "tf.math.multiply_129 (TFOpLambd (None, 14, 14, 480)  0           re_lu_184[0][0]                  \n",
      "__________________________________________________________________________________________________\n",
      "multiply_94 (Multiply)          (None, 14, 14, 480)  0           tf.math.multiply_129[0][0]       \n",
      "                                                                 expanded_conv_10/depthwise/BatchN\n",
      "__________________________________________________________________________________________________\n",
      "expanded_conv_10/squeeze_excite (None, 480)          0           multiply_94[0][0]                \n",
      "__________________________________________________________________________________________________\n",
      "reshape_35 (Reshape)            (None, 1, 1, 480)    0           expanded_conv_10/squeeze_excite/A\n",
      "__________________________________________________________________________________________________\n",
      "expanded_conv_10/squeeze_excite (None, 1, 1, 120)    57720       reshape_35[0][0]                 \n",
      "__________________________________________________________________________________________________\n",
      "expanded_conv_10/squeeze_excite (None, 1, 1, 120)    0           expanded_conv_10/squeeze_excite/C\n",
      "__________________________________________________________________________________________________\n",
      "expanded_conv_10/squeeze_excite (None, 1, 1, 480)    58080       expanded_conv_10/squeeze_excite/R\n",
      "__________________________________________________________________________________________________\n",
      "tf.__operators__.add_130 (TFOpL (None, 1, 1, 480)    0           expanded_conv_10/squeeze_excite/C\n",
      "__________________________________________________________________________________________________\n",
      "re_lu_185 (ReLU)                (None, 1, 1, 480)    0           tf.__operators__.add_130[0][0]   \n",
      "__________________________________________________________________________________________________\n",
      "tf.math.multiply_130 (TFOpLambd (None, 1, 1, 480)    0           re_lu_185[0][0]                  \n",
      "__________________________________________________________________________________________________\n",
      "expanded_conv_10/squeeze_excite (None, 14, 14, 480)  0           multiply_94[0][0]                \n",
      "                                                                 tf.math.multiply_130[0][0]       \n",
      "__________________________________________________________________________________________________\n",
      "expanded_conv_10/project (Conv2 (None, 14, 14, 112)  53760       expanded_conv_10/squeeze_excite/M\n",
      "__________________________________________________________________________________________________\n",
      "expanded_conv_10/project/BatchN (None, 14, 14, 112)  448         expanded_conv_10/project[0][0]   \n",
      "__________________________________________________________________________________________________\n",
      "expanded_conv_11/expand (Conv2D (None, 14, 14, 672)  75264       expanded_conv_10/project/BatchNor\n",
      "__________________________________________________________________________________________________\n",
      "expanded_conv_11/expand/BatchNo (None, 14, 14, 672)  2688        expanded_conv_11/expand[0][0]    \n",
      "__________________________________________________________________________________________________\n",
      "tf.__operators__.add_131 (TFOpL (None, 14, 14, 672)  0           expanded_conv_11/expand/BatchNorm\n",
      "__________________________________________________________________________________________________\n",
      "re_lu_186 (ReLU)                (None, 14, 14, 672)  0           tf.__operators__.add_131[0][0]   \n",
      "__________________________________________________________________________________________________\n",
      "tf.math.multiply_131 (TFOpLambd (None, 14, 14, 672)  0           re_lu_186[0][0]                  \n",
      "__________________________________________________________________________________________________\n",
      "multiply_95 (Multiply)          (None, 14, 14, 672)  0           tf.math.multiply_131[0][0]       \n",
      "                                                                 expanded_conv_11/expand/BatchNorm\n",
      "__________________________________________________________________________________________________\n",
      "expanded_conv_11/depthwise (Dep (None, 14, 14, 672)  6048        multiply_95[0][0]                \n",
      "__________________________________________________________________________________________________\n",
      "expanded_conv_11/depthwise/Batc (None, 14, 14, 672)  2688        expanded_conv_11/depthwise[0][0] \n",
      "__________________________________________________________________________________________________\n",
      "tf.__operators__.add_132 (TFOpL (None, 14, 14, 672)  0           expanded_conv_11/depthwise/BatchN\n",
      "__________________________________________________________________________________________________\n",
      "re_lu_187 (ReLU)                (None, 14, 14, 672)  0           tf.__operators__.add_132[0][0]   \n",
      "__________________________________________________________________________________________________\n",
      "tf.math.multiply_132 (TFOpLambd (None, 14, 14, 672)  0           re_lu_187[0][0]                  \n",
      "__________________________________________________________________________________________________\n",
      "multiply_96 (Multiply)          (None, 14, 14, 672)  0           tf.math.multiply_132[0][0]       \n",
      "                                                                 expanded_conv_11/depthwise/BatchN\n",
      "__________________________________________________________________________________________________\n",
      "expanded_conv_11/squeeze_excite (None, 672)          0           multiply_96[0][0]                \n",
      "__________________________________________________________________________________________________\n",
      "reshape_36 (Reshape)            (None, 1, 1, 672)    0           expanded_conv_11/squeeze_excite/A\n",
      "__________________________________________________________________________________________________\n",
      "expanded_conv_11/squeeze_excite (None, 1, 1, 168)    113064      reshape_36[0][0]                 \n",
      "__________________________________________________________________________________________________\n",
      "expanded_conv_11/squeeze_excite (None, 1, 1, 168)    0           expanded_conv_11/squeeze_excite/C\n",
      "__________________________________________________________________________________________________\n",
      "expanded_conv_11/squeeze_excite (None, 1, 1, 672)    113568      expanded_conv_11/squeeze_excite/R\n",
      "__________________________________________________________________________________________________\n",
      "tf.__operators__.add_133 (TFOpL (None, 1, 1, 672)    0           expanded_conv_11/squeeze_excite/C\n",
      "__________________________________________________________________________________________________\n",
      "re_lu_188 (ReLU)                (None, 1, 1, 672)    0           tf.__operators__.add_133[0][0]   \n",
      "__________________________________________________________________________________________________\n",
      "tf.math.multiply_133 (TFOpLambd (None, 1, 1, 672)    0           re_lu_188[0][0]                  \n",
      "__________________________________________________________________________________________________\n",
      "expanded_conv_11/squeeze_excite (None, 14, 14, 672)  0           multiply_96[0][0]                \n",
      "                                                                 tf.math.multiply_133[0][0]       \n",
      "__________________________________________________________________________________________________\n",
      "expanded_conv_11/project (Conv2 (None, 14, 14, 112)  75264       expanded_conv_11/squeeze_excite/M\n",
      "__________________________________________________________________________________________________\n",
      "expanded_conv_11/project/BatchN (None, 14, 14, 112)  448         expanded_conv_11/project[0][0]   \n",
      "__________________________________________________________________________________________________\n",
      "expanded_conv_11/Add (Add)      (None, 14, 14, 112)  0           expanded_conv_10/project/BatchNor\n",
      "                                                                 expanded_conv_11/project/BatchNor\n",
      "__________________________________________________________________________________________________\n",
      "expanded_conv_12/expand (Conv2D (None, 14, 14, 672)  75264       expanded_conv_11/Add[0][0]       \n",
      "__________________________________________________________________________________________________\n",
      "expanded_conv_12/expand/BatchNo (None, 14, 14, 672)  2688        expanded_conv_12/expand[0][0]    \n",
      "__________________________________________________________________________________________________\n",
      "tf.__operators__.add_134 (TFOpL (None, 14, 14, 672)  0           expanded_conv_12/expand/BatchNorm\n",
      "__________________________________________________________________________________________________\n",
      "re_lu_189 (ReLU)                (None, 14, 14, 672)  0           tf.__operators__.add_134[0][0]   \n",
      "__________________________________________________________________________________________________\n",
      "tf.math.multiply_134 (TFOpLambd (None, 14, 14, 672)  0           re_lu_189[0][0]                  \n",
      "__________________________________________________________________________________________________\n",
      "multiply_97 (Multiply)          (None, 14, 14, 672)  0           tf.math.multiply_134[0][0]       \n",
      "                                                                 expanded_conv_12/expand/BatchNorm\n",
      "__________________________________________________________________________________________________\n",
      "expanded_conv_12/depthwise/pad  (None, 17, 17, 672)  0           multiply_97[0][0]                \n",
      "__________________________________________________________________________________________________\n",
      "expanded_conv_12/depthwise (Dep (None, 7, 7, 672)    16800       expanded_conv_12/depthwise/pad[0]\n",
      "__________________________________________________________________________________________________\n",
      "expanded_conv_12/depthwise/Batc (None, 7, 7, 672)    2688        expanded_conv_12/depthwise[0][0] \n",
      "__________________________________________________________________________________________________\n",
      "tf.__operators__.add_135 (TFOpL (None, 7, 7, 672)    0           expanded_conv_12/depthwise/BatchN\n",
      "__________________________________________________________________________________________________\n",
      "re_lu_190 (ReLU)                (None, 7, 7, 672)    0           tf.__operators__.add_135[0][0]   \n",
      "__________________________________________________________________________________________________\n",
      "tf.math.multiply_135 (TFOpLambd (None, 7, 7, 672)    0           re_lu_190[0][0]                  \n",
      "__________________________________________________________________________________________________\n",
      "multiply_98 (Multiply)          (None, 7, 7, 672)    0           tf.math.multiply_135[0][0]       \n",
      "                                                                 expanded_conv_12/depthwise/BatchN\n",
      "__________________________________________________________________________________________________\n",
      "expanded_conv_12/squeeze_excite (None, 672)          0           multiply_98[0][0]                \n",
      "__________________________________________________________________________________________________\n",
      "reshape_37 (Reshape)            (None, 1, 1, 672)    0           expanded_conv_12/squeeze_excite/A\n",
      "__________________________________________________________________________________________________\n",
      "expanded_conv_12/squeeze_excite (None, 1, 1, 168)    113064      reshape_37[0][0]                 \n",
      "__________________________________________________________________________________________________\n",
      "expanded_conv_12/squeeze_excite (None, 1, 1, 168)    0           expanded_conv_12/squeeze_excite/C\n",
      "__________________________________________________________________________________________________\n",
      "expanded_conv_12/squeeze_excite (None, 1, 1, 672)    113568      expanded_conv_12/squeeze_excite/R\n",
      "__________________________________________________________________________________________________\n",
      "tf.__operators__.add_136 (TFOpL (None, 1, 1, 672)    0           expanded_conv_12/squeeze_excite/C\n",
      "__________________________________________________________________________________________________\n",
      "re_lu_191 (ReLU)                (None, 1, 1, 672)    0           tf.__operators__.add_136[0][0]   \n",
      "__________________________________________________________________________________________________\n",
      "tf.math.multiply_136 (TFOpLambd (None, 1, 1, 672)    0           re_lu_191[0][0]                  \n",
      "__________________________________________________________________________________________________\n",
      "expanded_conv_12/squeeze_excite (None, 7, 7, 672)    0           multiply_98[0][0]                \n",
      "                                                                 tf.math.multiply_136[0][0]       \n",
      "__________________________________________________________________________________________________\n",
      "expanded_conv_12/project (Conv2 (None, 7, 7, 160)    107520      expanded_conv_12/squeeze_excite/M\n",
      "__________________________________________________________________________________________________\n",
      "expanded_conv_12/project/BatchN (None, 7, 7, 160)    640         expanded_conv_12/project[0][0]   \n",
      "__________________________________________________________________________________________________\n",
      "expanded_conv_13/expand (Conv2D (None, 7, 7, 960)    153600      expanded_conv_12/project/BatchNor\n",
      "__________________________________________________________________________________________________\n",
      "expanded_conv_13/expand/BatchNo (None, 7, 7, 960)    3840        expanded_conv_13/expand[0][0]    \n",
      "__________________________________________________________________________________________________\n",
      "tf.__operators__.add_137 (TFOpL (None, 7, 7, 960)    0           expanded_conv_13/expand/BatchNorm\n",
      "__________________________________________________________________________________________________\n",
      "re_lu_192 (ReLU)                (None, 7, 7, 960)    0           tf.__operators__.add_137[0][0]   \n",
      "__________________________________________________________________________________________________\n",
      "tf.math.multiply_137 (TFOpLambd (None, 7, 7, 960)    0           re_lu_192[0][0]                  \n",
      "__________________________________________________________________________________________________\n",
      "multiply_99 (Multiply)          (None, 7, 7, 960)    0           tf.math.multiply_137[0][0]       \n",
      "                                                                 expanded_conv_13/expand/BatchNorm\n",
      "__________________________________________________________________________________________________\n",
      "expanded_conv_13/depthwise (Dep (None, 7, 7, 960)    24000       multiply_99[0][0]                \n",
      "__________________________________________________________________________________________________\n",
      "expanded_conv_13/depthwise/Batc (None, 7, 7, 960)    3840        expanded_conv_13/depthwise[0][0] \n",
      "__________________________________________________________________________________________________\n",
      "tf.__operators__.add_138 (TFOpL (None, 7, 7, 960)    0           expanded_conv_13/depthwise/BatchN\n",
      "__________________________________________________________________________________________________\n",
      "re_lu_193 (ReLU)                (None, 7, 7, 960)    0           tf.__operators__.add_138[0][0]   \n",
      "__________________________________________________________________________________________________\n",
      "tf.math.multiply_138 (TFOpLambd (None, 7, 7, 960)    0           re_lu_193[0][0]                  \n",
      "__________________________________________________________________________________________________\n",
      "multiply_100 (Multiply)         (None, 7, 7, 960)    0           tf.math.multiply_138[0][0]       \n",
      "                                                                 expanded_conv_13/depthwise/BatchN\n",
      "__________________________________________________________________________________________________\n",
      "expanded_conv_13/squeeze_excite (None, 960)          0           multiply_100[0][0]               \n",
      "__________________________________________________________________________________________________\n",
      "reshape_38 (Reshape)            (None, 1, 1, 960)    0           expanded_conv_13/squeeze_excite/A\n",
      "__________________________________________________________________________________________________\n",
      "expanded_conv_13/squeeze_excite (None, 1, 1, 240)    230640      reshape_38[0][0]                 \n",
      "__________________________________________________________________________________________________\n",
      "expanded_conv_13/squeeze_excite (None, 1, 1, 240)    0           expanded_conv_13/squeeze_excite/C\n",
      "__________________________________________________________________________________________________\n",
      "expanded_conv_13/squeeze_excite (None, 1, 1, 960)    231360      expanded_conv_13/squeeze_excite/R\n",
      "__________________________________________________________________________________________________\n",
      "tf.__operators__.add_139 (TFOpL (None, 1, 1, 960)    0           expanded_conv_13/squeeze_excite/C\n",
      "__________________________________________________________________________________________________\n",
      "re_lu_194 (ReLU)                (None, 1, 1, 960)    0           tf.__operators__.add_139[0][0]   \n",
      "__________________________________________________________________________________________________\n",
      "tf.math.multiply_139 (TFOpLambd (None, 1, 1, 960)    0           re_lu_194[0][0]                  \n",
      "__________________________________________________________________________________________________\n",
      "expanded_conv_13/squeeze_excite (None, 7, 7, 960)    0           multiply_100[0][0]               \n",
      "                                                                 tf.math.multiply_139[0][0]       \n",
      "__________________________________________________________________________________________________\n",
      "expanded_conv_13/project (Conv2 (None, 7, 7, 160)    153600      expanded_conv_13/squeeze_excite/M\n",
      "__________________________________________________________________________________________________\n",
      "expanded_conv_13/project/BatchN (None, 7, 7, 160)    640         expanded_conv_13/project[0][0]   \n",
      "__________________________________________________________________________________________________\n",
      "expanded_conv_13/Add (Add)      (None, 7, 7, 160)    0           expanded_conv_12/project/BatchNor\n",
      "                                                                 expanded_conv_13/project/BatchNor\n",
      "__________________________________________________________________________________________________\n",
      "expanded_conv_14/expand (Conv2D (None, 7, 7, 960)    153600      expanded_conv_13/Add[0][0]       \n",
      "__________________________________________________________________________________________________\n",
      "expanded_conv_14/expand/BatchNo (None, 7, 7, 960)    3840        expanded_conv_14/expand[0][0]    \n",
      "__________________________________________________________________________________________________\n",
      "tf.__operators__.add_140 (TFOpL (None, 7, 7, 960)    0           expanded_conv_14/expand/BatchNorm\n",
      "__________________________________________________________________________________________________\n",
      "re_lu_195 (ReLU)                (None, 7, 7, 960)    0           tf.__operators__.add_140[0][0]   \n",
      "__________________________________________________________________________________________________\n",
      "tf.math.multiply_140 (TFOpLambd (None, 7, 7, 960)    0           re_lu_195[0][0]                  \n",
      "__________________________________________________________________________________________________\n",
      "multiply_101 (Multiply)         (None, 7, 7, 960)    0           tf.math.multiply_140[0][0]       \n",
      "                                                                 expanded_conv_14/expand/BatchNorm\n",
      "__________________________________________________________________________________________________\n",
      "expanded_conv_14/depthwise (Dep (None, 7, 7, 960)    24000       multiply_101[0][0]               \n",
      "__________________________________________________________________________________________________\n",
      "expanded_conv_14/depthwise/Batc (None, 7, 7, 960)    3840        expanded_conv_14/depthwise[0][0] \n",
      "__________________________________________________________________________________________________\n",
      "tf.__operators__.add_141 (TFOpL (None, 7, 7, 960)    0           expanded_conv_14/depthwise/BatchN\n",
      "__________________________________________________________________________________________________\n",
      "re_lu_196 (ReLU)                (None, 7, 7, 960)    0           tf.__operators__.add_141[0][0]   \n",
      "__________________________________________________________________________________________________\n",
      "tf.math.multiply_141 (TFOpLambd (None, 7, 7, 960)    0           re_lu_196[0][0]                  \n",
      "__________________________________________________________________________________________________\n",
      "multiply_102 (Multiply)         (None, 7, 7, 960)    0           tf.math.multiply_141[0][0]       \n",
      "                                                                 expanded_conv_14/depthwise/BatchN\n",
      "__________________________________________________________________________________________________\n",
      "expanded_conv_14/squeeze_excite (None, 960)          0           multiply_102[0][0]               \n",
      "__________________________________________________________________________________________________\n",
      "reshape_39 (Reshape)            (None, 1, 1, 960)    0           expanded_conv_14/squeeze_excite/A\n",
      "__________________________________________________________________________________________________\n",
      "expanded_conv_14/squeeze_excite (None, 1, 1, 240)    230640      reshape_39[0][0]                 \n",
      "__________________________________________________________________________________________________\n",
      "expanded_conv_14/squeeze_excite (None, 1, 1, 240)    0           expanded_conv_14/squeeze_excite/C\n",
      "__________________________________________________________________________________________________\n",
      "expanded_conv_14/squeeze_excite (None, 1, 1, 960)    231360      expanded_conv_14/squeeze_excite/R\n",
      "__________________________________________________________________________________________________\n",
      "tf.__operators__.add_142 (TFOpL (None, 1, 1, 960)    0           expanded_conv_14/squeeze_excite/C\n",
      "__________________________________________________________________________________________________\n",
      "re_lu_197 (ReLU)                (None, 1, 1, 960)    0           tf.__operators__.add_142[0][0]   \n",
      "__________________________________________________________________________________________________\n",
      "tf.math.multiply_142 (TFOpLambd (None, 1, 1, 960)    0           re_lu_197[0][0]                  \n",
      "__________________________________________________________________________________________________\n",
      "expanded_conv_14/squeeze_excite (None, 7, 7, 960)    0           multiply_102[0][0]               \n",
      "                                                                 tf.math.multiply_142[0][0]       \n",
      "__________________________________________________________________________________________________\n",
      "expanded_conv_14/project (Conv2 (None, 7, 7, 160)    153600      expanded_conv_14/squeeze_excite/M\n",
      "__________________________________________________________________________________________________\n",
      "expanded_conv_14/project/BatchN (None, 7, 7, 160)    640         expanded_conv_14/project[0][0]   \n",
      "__________________________________________________________________________________________________\n",
      "expanded_conv_14/Add (Add)      (None, 7, 7, 160)    0           expanded_conv_13/Add[0][0]       \n",
      "                                                                 expanded_conv_14/project/BatchNor\n",
      "__________________________________________________________________________________________________\n",
      "Conv_1 (Conv2D)                 (None, 7, 7, 960)    153600      expanded_conv_14/Add[0][0]       \n",
      "__________________________________________________________________________________________________\n",
      "Conv_1/BatchNorm (BatchNormaliz (None, 7, 7, 960)    3840        Conv_1[0][0]                     \n",
      "__________________________________________________________________________________________________\n",
      "tf.__operators__.add_143 (TFOpL (None, 7, 7, 960)    0           Conv_1/BatchNorm[0][0]           \n",
      "__________________________________________________________________________________________________\n",
      "re_lu_198 (ReLU)                (None, 7, 7, 960)    0           tf.__operators__.add_143[0][0]   \n",
      "__________________________________________________________________________________________________\n",
      "tf.math.multiply_143 (TFOpLambd (None, 7, 7, 960)    0           re_lu_198[0][0]                  \n",
      "__________________________________________________________________________________________________\n",
      "multiply_103 (Multiply)         (None, 7, 7, 960)    0           tf.math.multiply_143[0][0]       \n",
      "                                                                 Conv_1/BatchNorm[0][0]           \n",
      "__________________________________________________________________________________________________\n",
      "Conv_2 (Conv2D)                 (None, 7, 7, 1280)   1230080     multiply_103[0][0]               \n",
      "__________________________________________________________________________________________________\n",
      "tf.__operators__.add_144 (TFOpL (None, 7, 7, 1280)   0           Conv_2[0][0]                     \n",
      "__________________________________________________________________________________________________\n",
      "re_lu_199 (ReLU)                (None, 7, 7, 1280)   0           tf.__operators__.add_144[0][0]   \n",
      "__________________________________________________________________________________________________\n",
      "tf.math.multiply_144 (TFOpLambd (None, 7, 7, 1280)   0           re_lu_199[0][0]                  \n",
      "__________________________________________________________________________________________________\n",
      "multiply_104 (Multiply)         (None, 7, 7, 1280)   0           tf.math.multiply_144[0][0]       \n",
      "                                                                 Conv_2[0][0]                     \n",
      "__________________________________________________________________________________________________\n",
      "avg_pool (GlobalAveragePooling2 (None, 1280)         0           multiply_104[0][0]               \n",
      "==================================================================================================\n",
      "Total params: 4,226,432\n",
      "Trainable params: 4,202,032\n",
      "Non-trainable params: 24,400\n",
      "__________________________________________________________________________________________________\n"
     ]
    }
   ],
   "source": [
    "#Defining dropout_r\n",
    "dropout_r=0.2\n",
    "\n",
    "#Base model mobile net\n",
    "model_base= MobileNetV3Large(input_shape=(in_net_w,in_net_h,3),\n",
    "                     alpha=1.0,\n",
    "                     minimalistic=False,\n",
    "                     include_top=False,\n",
    "                     weights='imagenet',\n",
    "                     input_tensor=None,\n",
    "                     classes=1,\n",
    "                     pooling='avg',\n",
    "                     dropout_rate=dropout_r,\n",
    "#                      backend=keras.backend,\n",
    "#                      layers=keras.layers,\n",
    "#                      models=tf.keras.models,\n",
    "#                      utils=tf.keras.utils\n",
    "                     )\n",
    "# backend=keras.backend\n",
    "# layers=keras.layers\n",
    "# models=tf.keras.models\n",
    "# utils=tf.keras.utils\n",
    "# out_1_8= layers.get_layer('activation_15').output\n",
    "# layer_names=[layer.name for layer in model_base.layers]\n",
    "# print(layer_names)\n",
    "# model_base.get_layer('mobilenetv3large').summary()\n",
    "model_base.summary()"
   ]
  },
  {
   "cell_type": "code",
   "execution_count": 38,
   "metadata": {},
   "outputs": [],
   "source": [
    "activation_number=41\n",
    "\n",
    "#Adding segmentation head\n",
    "\n",
    "def buildModel(base_model, dropout_rate= dropout_r, n_class=1): \n",
    "    global activation_number\n",
    "    #1/8 resolution output\n",
    "    \n",
    "    out_1_8= base_model.get_layer(index=15).output #'activation_15'\n",
    "    \n",
    "    #1/16 resolution output\n",
    "    \n",
    "    out_1_16= base_model.get_layer(index=29).output #'activation_29'\n",
    "    \n",
    "    \n",
    "    # branch1\n",
    "    x1 = Conv2D(128, (1, 1))(out_1_16)\n",
    "    x1 = BatchNormalization()(x1)\n",
    "    \n",
    "    layer_name_act=\"activation_head\"+str(activation_number)\n",
    "    x1 = Activation('relu',name=layer_name_act)(x1)\n",
    "    activation_number+=1\n",
    "    \n",
    "    # branch2\n",
    "    s = x1.shape\n",
    "\n",
    "    #custom average pooling2D\n",
    "    x2 = AveragePooling2D(pool_size=(12, 12), strides=(4, 5),data_format='channels_last')(out_1_16)\n",
    "    x2 = Conv2D(128, (1, 1))(x2)\n",
    "    \n",
    "    \n",
    "    layer_name_act=\"activation_head\"+str(activation_number)\n",
    "    \n",
    "    x2 = Activation('sigmoid',name=layer_name_act)(x2)\n",
    "    activation_number+=1\n",
    "    \n",
    "\n",
    "    x2 = UpSampling2D(size=(int(s[1]), int(s[2])),data_format='channels_last',interpolation=\"bilinear\")(x2)\n",
    "\n",
    "    \n",
    "    \n",
    "    # branch3\n",
    "    x3 = Conv2D(n_class, (1, 1))(out_1_8)\n",
    "    \n",
    "    # multiply\n",
    "    m1 = Multiply()([x1, x2])\n",
    "\n",
    "    m1 = UpSampling2D(size=(2, 2),data_format='channels_last',interpolation=\"bilinear\")(m1)\n",
    "    m1 = Conv2D(n_class, (1, 1))(m1)\n",
    "\n",
    "    # add\n",
    "    m2 = Add()([m1, x3])\n",
    "\n",
    "    \n",
    "    #adding this UPsampling of factor 8\n",
    "    m2 = UpSampling2D(size=(8, 8),data_format='channels_last',interpolation=\"bilinear\")(m2)\n",
    "\n",
    "    \n",
    "    # predictions \n",
    "    layer_name_act=\"activation_head\"+str(activation_number)\n",
    "    predictions = Activation('sigmoid',name=layer_name_act)(m2)\n",
    "    \n",
    "    \n",
    "    activation_number+=1 \n",
    "\n",
    "\n",
    "    # final model\n",
    "    model = Model(inputs=base_model.input, outputs=predictions)\n",
    "    \n",
    "    return model"
   ]
  },
  {
   "cell_type": "code",
   "execution_count": 39,
   "metadata": {},
   "outputs": [
    {
     "ename": "ValueError",
     "evalue": "Operands could not be broadcast together with shapes (56, 56, 128) (672, 504, 128)",
     "output_type": "error",
     "traceback": [
      "\u001b[0;31m---------------------------------------------------------------------------\u001b[0m",
      "\u001b[0;31mValueError\u001b[0m                                Traceback (most recent call last)",
      "Cell \u001b[0;32mIn [39], line 1\u001b[0m\n\u001b[0;32m----> 1\u001b[0m model\u001b[38;5;241m=\u001b[39m\u001b[43mbuildModel\u001b[49m\u001b[43m(\u001b[49m\u001b[43mbase_model\u001b[49m\u001b[38;5;241;43m=\u001b[39;49m\u001b[43mmodel_base\u001b[49m\u001b[43m)\u001b[49m\n",
      "Cell \u001b[0;32mIn [38], line 46\u001b[0m, in \u001b[0;36mbuildModel\u001b[0;34m(base_model, dropout_rate, n_class)\u001b[0m\n\u001b[1;32m     43\u001b[0m x3 \u001b[38;5;241m=\u001b[39m Conv2D(n_class, (\u001b[38;5;241m1\u001b[39m, \u001b[38;5;241m1\u001b[39m))(out_1_8)\n\u001b[1;32m     45\u001b[0m \u001b[38;5;66m# multiply\u001b[39m\n\u001b[0;32m---> 46\u001b[0m m1 \u001b[38;5;241m=\u001b[39m \u001b[43mMultiply\u001b[49m\u001b[43m(\u001b[49m\u001b[43m)\u001b[49m\u001b[43m(\u001b[49m\u001b[43m[\u001b[49m\u001b[43mx1\u001b[49m\u001b[43m,\u001b[49m\u001b[43m \u001b[49m\u001b[43mx2\u001b[49m\u001b[43m]\u001b[49m\u001b[43m)\u001b[49m\n\u001b[1;32m     48\u001b[0m m1 \u001b[38;5;241m=\u001b[39m UpSampling2D(size\u001b[38;5;241m=\u001b[39m(\u001b[38;5;241m2\u001b[39m, \u001b[38;5;241m2\u001b[39m),data_format\u001b[38;5;241m=\u001b[39m\u001b[38;5;124m'\u001b[39m\u001b[38;5;124mchannels_last\u001b[39m\u001b[38;5;124m'\u001b[39m,interpolation\u001b[38;5;241m=\u001b[39m\u001b[38;5;124m\"\u001b[39m\u001b[38;5;124mbilinear\u001b[39m\u001b[38;5;124m\"\u001b[39m)(m1)\n\u001b[1;32m     49\u001b[0m m1 \u001b[38;5;241m=\u001b[39m Conv2D(n_class, (\u001b[38;5;241m1\u001b[39m, \u001b[38;5;241m1\u001b[39m))(m1)\n",
      "File \u001b[0;32m~/anaconda3/envs/deepseg/lib/python3.8/site-packages/tensorflow/python/keras/engine/base_layer.py:951\u001b[0m, in \u001b[0;36mLayer.__call__\u001b[0;34m(self, *args, **kwargs)\u001b[0m\n\u001b[1;32m    945\u001b[0m \u001b[38;5;66m# Functional Model construction mode is invoked when `Layer`s are called on\u001b[39m\n\u001b[1;32m    946\u001b[0m \u001b[38;5;66m# symbolic `KerasTensor`s, i.e.:\u001b[39m\n\u001b[1;32m    947\u001b[0m \u001b[38;5;66m# >> inputs = tf.keras.Input(10)\u001b[39m\n\u001b[1;32m    948\u001b[0m \u001b[38;5;66m# >> outputs = MyLayer()(inputs)  # Functional construction mode.\u001b[39m\n\u001b[1;32m    949\u001b[0m \u001b[38;5;66m# >> model = tf.keras.Model(inputs, outputs)\u001b[39m\n\u001b[1;32m    950\u001b[0m \u001b[38;5;28;01mif\u001b[39;00m _in_functional_construction_mode(\u001b[38;5;28mself\u001b[39m, inputs, args, kwargs, input_list):\n\u001b[0;32m--> 951\u001b[0m   \u001b[38;5;28;01mreturn\u001b[39;00m \u001b[38;5;28;43mself\u001b[39;49m\u001b[38;5;241;43m.\u001b[39;49m\u001b[43m_functional_construction_call\u001b[49m\u001b[43m(\u001b[49m\u001b[43minputs\u001b[49m\u001b[43m,\u001b[49m\u001b[43m \u001b[49m\u001b[43margs\u001b[49m\u001b[43m,\u001b[49m\u001b[43m \u001b[49m\u001b[43mkwargs\u001b[49m\u001b[43m,\u001b[49m\n\u001b[1;32m    952\u001b[0m \u001b[43m                                            \u001b[49m\u001b[43minput_list\u001b[49m\u001b[43m)\u001b[49m\n\u001b[1;32m    954\u001b[0m \u001b[38;5;66m# Maintains info about the `Layer.call` stack.\u001b[39m\n\u001b[1;32m    955\u001b[0m call_context \u001b[38;5;241m=\u001b[39m base_layer_utils\u001b[38;5;241m.\u001b[39mcall_context()\n",
      "File \u001b[0;32m~/anaconda3/envs/deepseg/lib/python3.8/site-packages/tensorflow/python/keras/engine/base_layer.py:1090\u001b[0m, in \u001b[0;36mLayer._functional_construction_call\u001b[0;34m(self, inputs, args, kwargs, input_list)\u001b[0m\n\u001b[1;32m   1086\u001b[0m \u001b[38;5;28;01mif\u001b[39;00m keras_tensor\u001b[38;5;241m.\u001b[39mkeras_tensors_enabled():\n\u001b[1;32m   1087\u001b[0m   \u001b[38;5;28;01mwith\u001b[39;00m call_context\u001b[38;5;241m.\u001b[39menter(\n\u001b[1;32m   1088\u001b[0m       layer\u001b[38;5;241m=\u001b[39m\u001b[38;5;28mself\u001b[39m, inputs\u001b[38;5;241m=\u001b[39minputs, build_graph\u001b[38;5;241m=\u001b[39m\u001b[38;5;28;01mTrue\u001b[39;00m, training\u001b[38;5;241m=\u001b[39mtraining_value):\n\u001b[1;32m   1089\u001b[0m     \u001b[38;5;66m# Check input assumptions set after layer building, e.g. input shape.\u001b[39m\n\u001b[0;32m-> 1090\u001b[0m     outputs \u001b[38;5;241m=\u001b[39m \u001b[38;5;28;43mself\u001b[39;49m\u001b[38;5;241;43m.\u001b[39;49m\u001b[43m_keras_tensor_symbolic_call\u001b[49m\u001b[43m(\u001b[49m\n\u001b[1;32m   1091\u001b[0m \u001b[43m        \u001b[49m\u001b[43minputs\u001b[49m\u001b[43m,\u001b[49m\u001b[43m \u001b[49m\u001b[43minput_masks\u001b[49m\u001b[43m,\u001b[49m\u001b[43m \u001b[49m\u001b[43margs\u001b[49m\u001b[43m,\u001b[49m\u001b[43m \u001b[49m\u001b[43mkwargs\u001b[49m\u001b[43m)\u001b[49m\n\u001b[1;32m   1093\u001b[0m     \u001b[38;5;28;01mif\u001b[39;00m outputs \u001b[38;5;129;01mis\u001b[39;00m \u001b[38;5;28;01mNone\u001b[39;00m:\n\u001b[1;32m   1094\u001b[0m       \u001b[38;5;28;01mraise\u001b[39;00m \u001b[38;5;167;01mValueError\u001b[39;00m(\u001b[38;5;124m'\u001b[39m\u001b[38;5;124mA layer\u001b[39m\u001b[38;5;130;01m\\'\u001b[39;00m\u001b[38;5;124ms `call` method should return a \u001b[39m\u001b[38;5;124m'\u001b[39m\n\u001b[1;32m   1095\u001b[0m                        \u001b[38;5;124m'\u001b[39m\u001b[38;5;124mTensor or a list of Tensors, not None \u001b[39m\u001b[38;5;124m'\u001b[39m\n\u001b[1;32m   1096\u001b[0m                        \u001b[38;5;124m'\u001b[39m\u001b[38;5;124m(layer: \u001b[39m\u001b[38;5;124m'\u001b[39m \u001b[38;5;241m+\u001b[39m \u001b[38;5;28mself\u001b[39m\u001b[38;5;241m.\u001b[39mname \u001b[38;5;241m+\u001b[39m \u001b[38;5;124m'\u001b[39m\u001b[38;5;124m).\u001b[39m\u001b[38;5;124m'\u001b[39m)\n",
      "File \u001b[0;32m~/anaconda3/envs/deepseg/lib/python3.8/site-packages/tensorflow/python/keras/engine/base_layer.py:822\u001b[0m, in \u001b[0;36mLayer._keras_tensor_symbolic_call\u001b[0;34m(self, inputs, input_masks, args, kwargs)\u001b[0m\n\u001b[1;32m    820\u001b[0m   \u001b[38;5;28;01mreturn\u001b[39;00m nest\u001b[38;5;241m.\u001b[39mmap_structure(keras_tensor\u001b[38;5;241m.\u001b[39mKerasTensor, output_signature)\n\u001b[1;32m    821\u001b[0m \u001b[38;5;28;01melse\u001b[39;00m:\n\u001b[0;32m--> 822\u001b[0m   \u001b[38;5;28;01mreturn\u001b[39;00m \u001b[38;5;28;43mself\u001b[39;49m\u001b[38;5;241;43m.\u001b[39;49m\u001b[43m_infer_output_signature\u001b[49m\u001b[43m(\u001b[49m\u001b[43minputs\u001b[49m\u001b[43m,\u001b[49m\u001b[43m \u001b[49m\u001b[43margs\u001b[49m\u001b[43m,\u001b[49m\u001b[43m \u001b[49m\u001b[43mkwargs\u001b[49m\u001b[43m,\u001b[49m\u001b[43m \u001b[49m\u001b[43minput_masks\u001b[49m\u001b[43m)\u001b[49m\n",
      "File \u001b[0;32m~/anaconda3/envs/deepseg/lib/python3.8/site-packages/tensorflow/python/keras/engine/base_layer.py:862\u001b[0m, in \u001b[0;36mLayer._infer_output_signature\u001b[0;34m(self, inputs, args, kwargs, input_masks)\u001b[0m\n\u001b[1;32m    856\u001b[0m \u001b[38;5;28;01mwith\u001b[39;00m backend\u001b[38;5;241m.\u001b[39mname_scope(\u001b[38;5;28mself\u001b[39m\u001b[38;5;241m.\u001b[39m_name_scope()):\n\u001b[1;32m    857\u001b[0m   \u001b[38;5;28;01mwith\u001b[39;00m autocast_variable\u001b[38;5;241m.\u001b[39menable_auto_cast_variables(\n\u001b[1;32m    858\u001b[0m       \u001b[38;5;28mself\u001b[39m\u001b[38;5;241m.\u001b[39m_compute_dtype_object):\n\u001b[1;32m    859\u001b[0m     \u001b[38;5;66m# Build layer if applicable (if the `build` method has been\u001b[39m\n\u001b[1;32m    860\u001b[0m     \u001b[38;5;66m# overridden).\u001b[39m\n\u001b[1;32m    861\u001b[0m     \u001b[38;5;66m# TODO(kaftan): do we maybe_build here, or have we already done it?\u001b[39m\n\u001b[0;32m--> 862\u001b[0m     \u001b[38;5;28;43mself\u001b[39;49m\u001b[38;5;241;43m.\u001b[39;49m\u001b[43m_maybe_build\u001b[49m\u001b[43m(\u001b[49m\u001b[43minputs\u001b[49m\u001b[43m)\u001b[49m\n\u001b[1;32m    863\u001b[0m     outputs \u001b[38;5;241m=\u001b[39m call_fn(inputs, \u001b[38;5;241m*\u001b[39margs, \u001b[38;5;241m*\u001b[39m\u001b[38;5;241m*\u001b[39mkwargs)\n\u001b[1;32m    865\u001b[0m   \u001b[38;5;28mself\u001b[39m\u001b[38;5;241m.\u001b[39m_handle_activity_regularization(inputs, outputs)\n",
      "File \u001b[0;32m~/anaconda3/envs/deepseg/lib/python3.8/site-packages/tensorflow/python/keras/engine/base_layer.py:2710\u001b[0m, in \u001b[0;36mLayer._maybe_build\u001b[0;34m(self, inputs)\u001b[0m\n\u001b[1;32m   2705\u001b[0m \u001b[38;5;28;01mif\u001b[39;00m \u001b[38;5;129;01mnot\u001b[39;00m \u001b[38;5;28mhasattr\u001b[39m(\u001b[38;5;28mself\u001b[39m\u001b[38;5;241m.\u001b[39mbuild, \u001b[38;5;124m'\u001b[39m\u001b[38;5;124m_is_default\u001b[39m\u001b[38;5;124m'\u001b[39m):\n\u001b[1;32m   2706\u001b[0m   \u001b[38;5;66m# Any setup work performed only once should happen in an `init_scope`\u001b[39m\n\u001b[1;32m   2707\u001b[0m   \u001b[38;5;66m# to avoid creating symbolic Tensors that will later pollute any eager\u001b[39m\n\u001b[1;32m   2708\u001b[0m   \u001b[38;5;66m# operations.\u001b[39m\n\u001b[1;32m   2709\u001b[0m   \u001b[38;5;28;01mwith\u001b[39;00m tf_utils\u001b[38;5;241m.\u001b[39mmaybe_init_scope(\u001b[38;5;28mself\u001b[39m):\n\u001b[0;32m-> 2710\u001b[0m     \u001b[38;5;28;43mself\u001b[39;49m\u001b[38;5;241;43m.\u001b[39;49m\u001b[43mbuild\u001b[49m\u001b[43m(\u001b[49m\u001b[43minput_shapes\u001b[49m\u001b[43m)\u001b[49m  \u001b[38;5;66m# pylint:disable=not-callable\u001b[39m\n\u001b[1;32m   2711\u001b[0m \u001b[38;5;66m# We must set also ensure that the layer is marked as built, and the build\u001b[39m\n\u001b[1;32m   2712\u001b[0m \u001b[38;5;66m# shape is stored since user defined build functions may not be calling\u001b[39m\n\u001b[1;32m   2713\u001b[0m \u001b[38;5;66m# `super.build()`\u001b[39m\n\u001b[1;32m   2714\u001b[0m Layer\u001b[38;5;241m.\u001b[39mbuild(\u001b[38;5;28mself\u001b[39m, input_shapes)\n",
      "File \u001b[0;32m~/anaconda3/envs/deepseg/lib/python3.8/site-packages/tensorflow/python/keras/utils/tf_utils.py:272\u001b[0m, in \u001b[0;36mshape_type_conversion.<locals>.wrapper\u001b[0;34m(instance, input_shape)\u001b[0m\n\u001b[1;32m    270\u001b[0m \u001b[38;5;28;01mif\u001b[39;00m input_shape \u001b[38;5;129;01mis\u001b[39;00m \u001b[38;5;129;01mnot\u001b[39;00m \u001b[38;5;28;01mNone\u001b[39;00m:\n\u001b[1;32m    271\u001b[0m   input_shape \u001b[38;5;241m=\u001b[39m convert_shapes(input_shape, to_tuples\u001b[38;5;241m=\u001b[39m\u001b[38;5;28;01mTrue\u001b[39;00m)\n\u001b[0;32m--> 272\u001b[0m output_shape \u001b[38;5;241m=\u001b[39m \u001b[43mfn\u001b[49m\u001b[43m(\u001b[49m\u001b[43minstance\u001b[49m\u001b[43m,\u001b[49m\u001b[43m \u001b[49m\u001b[43minput_shape\u001b[49m\u001b[43m)\u001b[49m\n\u001b[1;32m    273\u001b[0m \u001b[38;5;66m# Return shapes from `fn` as TensorShapes.\u001b[39m\n\u001b[1;32m    274\u001b[0m \u001b[38;5;28;01mif\u001b[39;00m output_shape \u001b[38;5;129;01mis\u001b[39;00m \u001b[38;5;129;01mnot\u001b[39;00m \u001b[38;5;28;01mNone\u001b[39;00m:\n",
      "File \u001b[0;32m~/anaconda3/envs/deepseg/lib/python3.8/site-packages/tensorflow/python/keras/layers/merge.py:112\u001b[0m, in \u001b[0;36m_Merge.build\u001b[0;34m(self, input_shape)\u001b[0m\n\u001b[1;32m    110\u001b[0m   \u001b[38;5;28;01melse\u001b[39;00m:\n\u001b[1;32m    111\u001b[0m     shape \u001b[38;5;241m=\u001b[39m input_shape[i][\u001b[38;5;241m1\u001b[39m:]\n\u001b[0;32m--> 112\u001b[0m   output_shape \u001b[38;5;241m=\u001b[39m \u001b[38;5;28;43mself\u001b[39;49m\u001b[38;5;241;43m.\u001b[39;49m\u001b[43m_compute_elemwise_op_output_shape\u001b[49m\u001b[43m(\u001b[49m\u001b[43moutput_shape\u001b[49m\u001b[43m,\u001b[49m\u001b[43m \u001b[49m\u001b[43mshape\u001b[49m\u001b[43m)\u001b[49m\n\u001b[1;32m    113\u001b[0m \u001b[38;5;66m# If the inputs have different ranks, we have to reshape them\u001b[39m\n\u001b[1;32m    114\u001b[0m \u001b[38;5;66m# to make them broadcastable.\u001b[39m\n\u001b[1;32m    115\u001b[0m \u001b[38;5;28;01mif\u001b[39;00m \u001b[38;5;28;01mNone\u001b[39;00m \u001b[38;5;129;01mnot\u001b[39;00m \u001b[38;5;129;01min\u001b[39;00m input_shape \u001b[38;5;129;01mand\u001b[39;00m \u001b[38;5;28mlen\u001b[39m(\u001b[38;5;28mset\u001b[39m(\u001b[38;5;28mmap\u001b[39m(\u001b[38;5;28mlen\u001b[39m, input_shape))) \u001b[38;5;241m==\u001b[39m \u001b[38;5;241m1\u001b[39m:\n",
      "File \u001b[0;32m~/anaconda3/envs/deepseg/lib/python3.8/site-packages/tensorflow/python/keras/layers/merge.py:83\u001b[0m, in \u001b[0;36m_Merge._compute_elemwise_op_output_shape\u001b[0;34m(self, shape1, shape2)\u001b[0m\n\u001b[1;32m     81\u001b[0m   \u001b[38;5;28;01melse\u001b[39;00m:\n\u001b[1;32m     82\u001b[0m     \u001b[38;5;28;01mif\u001b[39;00m i \u001b[38;5;241m!=\u001b[39m j:\n\u001b[0;32m---> 83\u001b[0m       \u001b[38;5;28;01mraise\u001b[39;00m \u001b[38;5;167;01mValueError\u001b[39;00m(\n\u001b[1;32m     84\u001b[0m           \u001b[38;5;124m'\u001b[39m\u001b[38;5;124mOperands could not be broadcast \u001b[39m\u001b[38;5;124m'\u001b[39m\n\u001b[1;32m     85\u001b[0m           \u001b[38;5;124m'\u001b[39m\u001b[38;5;124mtogether with shapes \u001b[39m\u001b[38;5;124m'\u001b[39m \u001b[38;5;241m+\u001b[39m \u001b[38;5;28mstr\u001b[39m(shape1) \u001b[38;5;241m+\u001b[39m \u001b[38;5;124m'\u001b[39m\u001b[38;5;124m \u001b[39m\u001b[38;5;124m'\u001b[39m \u001b[38;5;241m+\u001b[39m \u001b[38;5;28mstr\u001b[39m(shape2))\n\u001b[1;32m     86\u001b[0m     output_shape\u001b[38;5;241m.\u001b[39mappend(i)\n\u001b[1;32m     87\u001b[0m \u001b[38;5;28;01mreturn\u001b[39;00m \u001b[38;5;28mtuple\u001b[39m(output_shape)\n",
      "\u001b[0;31mValueError\u001b[0m: Operands could not be broadcast together with shapes (56, 56, 128) (672, 504, 128)"
     ]
    }
   ],
   "source": [
    "model=buildModel(base_model=model_base)"
   ]
  },
  {
   "cell_type": "code",
   "execution_count": null,
   "metadata": {},
   "outputs": [],
   "source": [
    "model.summary()"
   ]
  },
  {
   "cell_type": "markdown",
   "metadata": {},
   "source": [
    "## 4.2 Training model"
   ]
  },
  {
   "cell_type": "code",
   "execution_count": null,
   "metadata": {},
   "outputs": [],
   "source": [
    "#Define the optimizers\n",
    "optimizer_r = RMSprop(lr=0.001, rho=0.9, epsilon=1e-08, decay=0.0)\n",
    "optimizer_a = Adam(lr=0.001, beta_1=0.9, beta_2=0.999, amsgrad=True)\n",
    "optimizer_SDG=SGD(learning_rate=0.01, momentum=0.0, nesterov=False)\n"
   ]
  },
  {
   "cell_type": "code",
   "execution_count": null,
   "metadata": {},
   "outputs": [],
   "source": [
    "def loss_IoU(y_true, y_pred): \n",
    "    \n",
    "    intersection_tensor=tf.math.multiply(y_true,y_pred)\n",
    "    inter=tf.reduce_sum(intersection_tensor)\n",
    "    \n",
    "    union=tf.reduce_sum(tf.math.subtract(tf.math.add(y_true,y_pred),intersection_tensor))\n",
    "    \n",
    "    \n",
    "    iou= tf.math.divide(inter,union)\n",
    "    return 1-iou"
   ]
  },
  {
   "cell_type": "code",
   "execution_count": null,
   "metadata": {},
   "outputs": [],
   "source": [
    "#metric\n",
    "def class_IoU(y_true, y_pred):\n",
    "\n",
    "    \n",
    "    threshold = tf.constant([0.9])\n",
    "    y_pred_threshold=tf.cast(tf.math.greater(y_pred, threshold),tf.int32)\n",
    "    y_true=tf.cast(y_true,tf.int32)\n",
    "    \n",
    "\n",
    "    intersection_tensor=tf.math.multiply(y_true,y_pred_threshold)\n",
    "    inter=tf.reduce_sum(intersection_tensor)\n",
    "    \n",
    "    #union= a+b-intersection\n",
    "    union=tf.reduce_sum(tf.math.subtract(tf.math.add(y_true,y_pred_threshold),intersection_tensor))\n",
    "    \n",
    "    \n",
    "    return tf.math.divide(inter,union)"
   ]
  },
  {
   "cell_type": "markdown",
   "metadata": {},
   "source": [
    "### 4.2.1 Transfer learning: freeze the lower layers\n",
    "\n",
    "\n",
    "Freezing the lower layers for a few epochs and then train the whole model\n"
   ]
  },
  {
   "cell_type": "code",
   "execution_count": null,
   "metadata": {},
   "outputs": [],
   "source": [
    "#Compile the model \n",
    "model.compile(optimizer=optimizer_r, loss=loss_IoU, metrics = [class_IoU])"
   ]
  },
  {
   "cell_type": "code",
   "execution_count": null,
   "metadata": {},
   "outputs": [],
   "source": [
    "#The first layers have been already frozen previously\n",
    "\n",
    "early_stopping_ = tf.keras.callbacks.EarlyStopping(patience=3)\n",
    "\n",
    "n_epochs = 10\n",
    "\n",
    "# Train the model on the new data for a few epochs\n",
    "history_F = model.fit(x = X, y = y,\n",
    "                    batch_size = 32,\n",
    "                    epochs = n_epochs,\n",
    "                    validation_split = 0.1, \n",
    "                    shuffle = True,\n",
    "                    callbacks = [early_stopping_]\n",
    "                     )  "
   ]
  },
  {
   "cell_type": "markdown",
   "metadata": {},
   "source": [
    "# 5.0 Test the Model\n",
    "\n",
    "\n",
    "Test the model in different vineyard parcels"
   ]
  },
  {
   "cell_type": "code",
   "execution_count": null,
   "metadata": {},
   "outputs": [],
   "source": [
    "model.evaluate(X_test,y_test)"
   ]
  },
  {
   "cell_type": "markdown",
   "metadata": {},
   "source": [
    "# 6.0 Compute metrics for paper"
   ]
  },
  {
   "cell_type": "markdown",
   "metadata": {},
   "source": [
    "## 6.1 Pixel accuracy\n"
   ]
  },
  {
   "cell_type": "code",
   "execution_count": null,
   "metadata": {
    "scrolled": true
   },
   "outputs": [],
   "source": [
    "acc_list=[]\n",
    "for jj in tqdm(range(len(X_test))):\n",
    "    y_pred = model.predict(X_test[jj][None,...])\n",
    "    y_pred = (y_pred[0,:,:,0] > 0.9)\n",
    "    temp=np.equal(y_pred,y_test[jj])\n",
    "    score=np.sum(temp)\n",
    "    accuracy=score/(224**2)\n",
    "    acc_list.append(accuracy)\n",
    "\n",
    "acc_nump=np.array(acc_list)\n",
    "np.mean(acc_nump)"
   ]
  },
  {
   "cell_type": "markdown",
   "metadata": {},
   "source": [
    "## 6.2 Precision @ different thresholds\n"
   ]
  },
  {
   "cell_type": "code",
   "execution_count": null,
   "metadata": {},
   "outputs": [],
   "source": [
    "iou_list=[]\n",
    "for jj in tqdm(range(len(X_test))):\n",
    "    y_pred = model.predict(X_test[jj][None,...])\n",
    "    iou=class_IoU(y_test[jj], y_pred[0,:,:,0])\n",
    "    iou_list.append(iou.numpy())"
   ]
  },
  {
   "cell_type": "code",
   "execution_count": null,
   "metadata": {},
   "outputs": [],
   "source": [
    "iou_list=np.array(iou_list)\n",
    "print(\"iou greater 0.4 and %\")\n",
    "a1=len(np.where(iou_list>0.4)[0])\n",
    "print(a1,a1/500)\n",
    "print(\"iou greater 0.5 and %\")\n",
    "a1=len(np.where(iou_list>0.5)[0])\n",
    "print(a1,a1/500)\n",
    "print(\"iou greater 0.6 and %\")\n",
    "a1=len(np.where(iou_list>0.6)[0])\n",
    "print(a1,a1/500)\n",
    "print(\"iou greater 0.7 and %\")\n",
    "a1=len(np.where(iou_list>0.7)[0])\n",
    "print(a1,a1/500)"
   ]
  },
  {
   "cell_type": "markdown",
   "metadata": {},
   "source": [
    "# 7.0 save model"
   ]
  },
  {
   "cell_type": "code",
   "execution_count": null,
   "metadata": {},
   "outputs": [],
   "source": [
    "#Saving the model\n",
    "cwd = os.getcwd()\n",
    "model_path = os.path.join(cwd,'bin','mobileNetv3_segmentation_new1.h5')\n",
    "model.save(model_path, save_format='h5')"
   ]
  },
  {
   "cell_type": "markdown",
   "metadata": {},
   "source": [
    "# 8.0 Test on a random image"
   ]
  },
  {
   "cell_type": "code",
   "execution_count": null,
   "metadata": {},
   "outputs": [],
   "source": [
    "cwd = os.getcwd()\n",
    "print(cwd)\n",
    "model_path = os.path.join(cwd,'bin','mobileNetv3_segmentation_new1.h5')\n",
    "model=tf.keras.models.load_model(model_path,\n",
    "                                 custom_objects={\"hard_swish\": hard_swish,\"loss_IoU\": loss_IoU,\"class_IoU\":class_IoU}\n",
    "                                )"
   ]
  },
  {
   "cell_type": "code",
   "execution_count": null,
   "metadata": {},
   "outputs": [],
   "source": [
    "x_test_new = cv2.imread('frame_5260.jpg') \n",
    "\n",
    "x_test_new = cv2.cvtColor(x_test_new, cv2.COLOR_BGR2RGB)\n",
    "x_test_new = cv2.resize(x_test_new.astype('uint8')\n",
    "                        , (224,224), interpolation = cv2.INTER_AREA)\n",
    "x_test_new = normalize(x_test_new)"
   ]
  },
  {
   "cell_type": "code",
   "execution_count": null,
   "metadata": {},
   "outputs": [],
   "source": [
    "def plotPrediction(x, y_pred):\n",
    "    fig, axes = plt.subplots(1, 2, figsize=(15,15))\n",
    "    axes[0].imshow(x)\n",
    "    axes[1].imshow(y_pred)"
   ]
  },
  {
   "cell_type": "code",
   "execution_count": null,
   "metadata": {},
   "outputs": [],
   "source": [
    "y_pred = model.predict(x_test_new[None,...])\n",
    "y_pred = (y_pred > 0.9)\n",
    "plotPrediction(x_test_new, y_pred[0,:,:,0])"
   ]
  },
  {
   "cell_type": "markdown",
   "metadata": {},
   "source": [
    "# 8.0 Vegetation index"
   ]
  },
  {
   "cell_type": "code",
   "execution_count": null,
   "metadata": {},
   "outputs": [],
   "source": [
    "#Datasets_segmentation/training_dataset\n",
    "img_test = cv2.imread('vegetation_index/frame_5260.jpg')\n",
    "img_test = cv2.cvtColor(img_test, cv2.COLOR_BGR2RGB)\n",
    "img_test = cv2.resize(img_test.astype('uint8'), (224,224), interpolation = cv2.INTER_AREA)\n",
    "img_test = normalize(img_test)\n"
   ]
  },
  {
   "cell_type": "code",
   "execution_count": null,
   "metadata": {},
   "outputs": [],
   "source": [
    "y_pred = model.predict(x_test_new[None,...])\n",
    "y_pred = (y_pred > 0.9)\n",
    "plotPrediction(x_test_new, y_pred[0,:,:,0])"
   ]
  },
  {
   "cell_type": "code",
   "execution_count": null,
   "metadata": {},
   "outputs": [],
   "source": [
    "img = cv2.imread('vegetation_index/frame_11115.jpg')\n",
    "\n",
    "x_test_new = cv2.cvtColor(img, cv2.COLOR_BGR2RGB)\n",
    "x_test_new = cv2.resize(x_test_new.astype('uint8'), (224,224), interpolation = cv2.INTER_AREA)\n",
    "x_test_new = normalize(x_test_new)\n",
    "img = cv2.resize(img.astype('uint8'), (224,224), interpolation = cv2.INTER_AREA)\n",
    "img = cv2.cvtColor(img, cv2.COLOR_BGR2RGB)\n",
    "y_pred = model.predict(x_test_new[None,...])\n",
    "y_pred = (y_pred > 0.9)\n",
    "\n",
    "#Show the mask over the image\n",
    "plt.figure(figsize=(8,8),frameon=False)\n",
    "plt.axis('off')\n",
    "plt.imshow(img)\n",
    "\n",
    "#Remove pink from sky\n",
    "rem_pred=y_pred[0,:,:,0].astype(np.float)\n",
    "\n",
    "rem_pred[rem_pred==0]=np.NaN\n",
    "plt.imshow(rem_pred, alpha=0.4,cmap='Spectral')\n",
    "\n",
    "plt.savefig('s_veg2.png', bbox_inches='tight', pad_inches=0)"
   ]
  },
  {
   "cell_type": "code",
   "execution_count": null,
   "metadata": {},
   "outputs": [],
   "source": [
    "#Reverse colours\n",
    "gira=cv2.imread('s_veg2.png')\n",
    "gira=cv2.cvtColor(gira, cv2.COLOR_BGR2RGB)\n",
    "\n",
    "plt.figure(figsize=(8,8),frameon=False)\n",
    "plt.axis('off')\n",
    "plt.imshow(gira)\n",
    "plt.savefig('s_veg2.png', bbox_inches='tight', pad_inches=0)"
   ]
  },
  {
   "cell_type": "code",
   "execution_count": null,
   "metadata": {},
   "outputs": [],
   "source": [
    "output=y_pred[0,:,:,0]"
   ]
  },
  {
   "cell_type": "code",
   "execution_count": null,
   "metadata": {},
   "outputs": [],
   "source": [
    "#Compute vegetation index\n",
    "veg=np.zeros((224,224))\n",
    "\n",
    "for x,y in zip(np.where(output)[0],np.where(output)[1]):\n",
    "    veg[x,y]=(img[x,y,1]-img[x,y,0])/(img[x,y,1]+img[x,y,0]-img[x,y,2])\n"
   ]
  },
  {
   "cell_type": "code",
   "execution_count": null,
   "metadata": {},
   "outputs": [],
   "source": [
    "#Remove outliers \n",
    "veg[veg>1]=np.NaN \n",
    "veg[veg==0]=np.NaN\n",
    "veg[veg==np.inf]=np.NaN"
   ]
  },
  {
   "cell_type": "code",
   "execution_count": 6,
   "metadata": {},
   "outputs": [],
   "source": [
    "from sklearn.preprocessing import MinMaxScaler\n",
    "\n",
    "#Normalize\n",
    "min_max_scaler = MinMaxScaler()\n",
    "map_veg = min_max_scaler.fit_transform(veg)"
   ]
  },
  {
   "cell_type": "code",
   "execution_count": null,
   "metadata": {},
   "outputs": [],
   "source": [
    "plt.figure(figsize=(8,8))\n",
    "plt.axis('off')\n",
    "\n",
    "cf=plt.imshow(map_veg,cmap='inferno')\n",
    "cd= plt.colorbar(cf)\n",
    "\n",
    "cd.set_ticklabels(['LOW','HIGH'])\n",
    "plt.show()"
   ]
  }
 ],
 "metadata": {
  "kernelspec": {
   "display_name": "Python 3 (ipykernel)",
   "language": "python",
   "name": "python3"
  },
  "language_info": {
   "codemirror_mode": {
    "name": "ipython",
    "version": 3
   },
   "file_extension": ".py",
   "mimetype": "text/x-python",
   "name": "python",
   "nbconvert_exporter": "python",
   "pygments_lexer": "ipython3",
   "version": "3.8.10"
  },
  "varInspector": {
   "cols": {
    "lenName": 16,
    "lenType": 16,
    "lenVar": 40
   },
   "kernels_config": {
    "python": {
     "delete_cmd_postfix": "",
     "delete_cmd_prefix": "del ",
     "library": "var_list.py",
     "varRefreshCmd": "print(var_dic_list())"
    },
    "r": {
     "delete_cmd_postfix": ") ",
     "delete_cmd_prefix": "rm(",
     "library": "var_list.r",
     "varRefreshCmd": "cat(var_dic_list()) "
    }
   },
   "types_to_exclude": [
    "module",
    "function",
    "builtin_function_or_method",
    "instance",
    "_Feature"
   ],
   "window_display": false
  }
 },
 "nbformat": 4,
 "nbformat_minor": 2
}
